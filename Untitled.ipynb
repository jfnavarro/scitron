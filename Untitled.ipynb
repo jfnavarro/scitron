{
 "cells": [
  {
   "cell_type": "code",
   "execution_count": 6,
   "metadata": {},
   "outputs": [],
   "source": [
    "import pandas as pd\n",
    "\n",
    "genes_table = pd.read_csv('../analysis/pathways_E_F.txt', sep=\"\\t\", header=0)"
   ]
  },
  {
   "cell_type": "code",
   "execution_count": 7,
   "metadata": {},
   "outputs": [
    {
     "data": {
      "text/html": [
       "<div>\n",
       "<style scoped>\n",
       "    .dataframe tbody tr th:only-of-type {\n",
       "        vertical-align: middle;\n",
       "    }\n",
       "\n",
       "    .dataframe tbody tr th {\n",
       "        vertical-align: top;\n",
       "    }\n",
       "\n",
       "    .dataframe thead th {\n",
       "        text-align: right;\n",
       "    }\n",
       "</style>\n",
       "<table border=\"1\" class=\"dataframe\">\n",
       "  <thead>\n",
       "    <tr style=\"text-align: right;\">\n",
       "      <th></th>\n",
       "      <th>gene_name</th>\n",
       "      <th>pglobal_cv</th>\n",
       "      <th>qglobal_cv</th>\n",
       "      <th>group</th>\n",
       "    </tr>\n",
       "  </thead>\n",
       "  <tbody>\n",
       "    <tr>\n",
       "      <th>0</th>\n",
       "      <td>AC004076.1</td>\n",
       "      <td>0</td>\n",
       "      <td>0,017</td>\n",
       "      <td>E</td>\n",
       "    </tr>\n",
       "    <tr>\n",
       "      <th>1</th>\n",
       "      <td>AC004076.1</td>\n",
       "      <td>0</td>\n",
       "      <td>0,035</td>\n",
       "      <td>F</td>\n",
       "    </tr>\n",
       "    <tr>\n",
       "      <th>2</th>\n",
       "      <td>ARL11</td>\n",
       "      <td>0</td>\n",
       "      <td>0,009</td>\n",
       "      <td>E</td>\n",
       "    </tr>\n",
       "    <tr>\n",
       "      <th>3</th>\n",
       "      <td>ARL11</td>\n",
       "      <td>0</td>\n",
       "      <td>0,008</td>\n",
       "      <td>F</td>\n",
       "    </tr>\n",
       "    <tr>\n",
       "      <th>4</th>\n",
       "      <td>EBLN2</td>\n",
       "      <td>0</td>\n",
       "      <td>0,014</td>\n",
       "      <td>E</td>\n",
       "    </tr>\n",
       "  </tbody>\n",
       "</table>\n",
       "</div>"
      ],
      "text/plain": [
       "    gene_name  pglobal_cv qglobal_cv group\n",
       "0  AC004076.1           0      0,017     E\n",
       "1  AC004076.1           0      0,035     F\n",
       "2       ARL11           0      0,009     E\n",
       "3       ARL11           0      0,008     F\n",
       "4       EBLN2           0      0,014     E"
      ]
     },
     "execution_count": 7,
     "metadata": {},
     "output_type": "execute_result"
    }
   ],
   "source": [
    "genes_table.head()"
   ]
  },
  {
   "cell_type": "code",
   "execution_count": 10,
   "metadata": {},
   "outputs": [
    {
     "name": "stderr",
     "output_type": "stream",
     "text": [
      "2021-02-14 10:10:08,757 Error fetching enrichment results: KEGG_2019_Human\n",
      "2021-02-14 10:10:11,590 Error fetching enrichment results: GO_Biological_Process_2018\n",
      "2021-02-14 10:10:14,646 Error fetching enrichment results: GO_Molecular_Function_2018\n"
     ]
    }
   ],
   "source": [
    "import gseapy as gp\n",
    "import matplotlib.pyplot as plt\n",
    "\n",
    "genes = genes_table[genes_table['group'] == 'E']['gene_name'].tolist()\n",
    "enr = gp.enrichr(gene_list = genes,\n",
    "                 gene_sets = ['KEGG_2019_Human','GO_Biological_Process_2018', 'GO_Molecular_Function_2018'],\n",
    "                 organism = 'Human',\n",
    "                 description = 'Pathway analysis',\n",
    "                 outdir = '../analysis/analysis_pathways/E/',\n",
    "                 # no_plot=True,\n",
    "                 cutoff = 1.0)"
   ]
  },
  {
   "cell_type": "code",
   "execution_count": 11,
   "metadata": {},
   "outputs": [
    {
     "name": "stderr",
     "output_type": "stream",
     "text": [
      "2021-02-14 10:10:23,151 Error fetching enrichment results: KEGG_2019_Human\n",
      "2021-02-14 10:10:25,910 Error fetching enrichment results: GO_Biological_Process_2018\n",
      "2021-02-14 10:10:28,716 Error fetching enrichment results: GO_Molecular_Function_2018\n"
     ]
    }
   ],
   "source": [
    "genes = genes_table[genes_table['group'] == 'F']['gene_name'].tolist()\n",
    "enr = gp.enrichr(gene_list = genes,\n",
    "                 gene_sets = ['KEGG_2019_Human','GO_Biological_Process_2018', 'GO_Molecular_Function_2018'],\n",
    "                 organism = 'Human',\n",
    "                 description = 'Pathway analysis',\n",
    "                 outdir = '../analysis/analysis_pathways/F/',\n",
    "                 # no_plot=True,\n",
    "                 cutoff = 1.0)"
   ]
  },
  {
   "cell_type": "code",
   "execution_count": null,
   "metadata": {},
   "outputs": [],
   "source": []
  }
 ],
 "metadata": {
  "kernelspec": {
   "display_name": "Python 3",
   "language": "python",
   "name": "python3"
  },
  "language_info": {
   "codemirror_mode": {
    "name": "ipython",
    "version": 3
   },
   "file_extension": ".py",
   "mimetype": "text/x-python",
   "name": "python",
   "nbconvert_exporter": "python",
   "pygments_lexer": "ipython3",
   "version": "3.8.5"
  }
 },
 "nbformat": 4,
 "nbformat_minor": 4
}
