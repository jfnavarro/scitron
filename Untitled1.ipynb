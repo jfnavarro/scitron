{
 "cells": [
  {
   "cell_type": "code",
   "execution_count": 1,
   "metadata": {},
   "outputs": [],
   "source": [
    "import pandas as pd\n",
    "\n",
    "genes_table = pd.read_csv('../analysis/merged_variants_anno_vaf.txt', sep=\"\\t\", header=0)"
   ]
  },
  {
   "cell_type": "code",
   "execution_count": 4,
   "metadata": {},
   "outputs": [
    {
     "data": {
      "text/html": [
       "<div>\n",
       "<style scoped>\n",
       "    .dataframe tbody tr th:only-of-type {\n",
       "        vertical-align: middle;\n",
       "    }\n",
       "\n",
       "    .dataframe tbody tr th {\n",
       "        vertical-align: top;\n",
       "    }\n",
       "\n",
       "    .dataframe thead th {\n",
       "        text-align: right;\n",
       "    }\n",
       "</style>\n",
       "<table border=\"1\" class=\"dataframe\">\n",
       "  <thead>\n",
       "    <tr style=\"text-align: right;\">\n",
       "      <th></th>\n",
       "      <th>VARIANT_KEY</th>\n",
       "      <th>GENE</th>\n",
       "      <th>EFFECT</th>\n",
       "      <th>AACHANGE</th>\n",
       "      <th>TYPE</th>\n",
       "      <th>DBSNP</th>\n",
       "      <th>GNOMAD</th>\n",
       "      <th>COSMI70</th>\n",
       "      <th>CLINVAR</th>\n",
       "      <th>MutationAssessor_pred</th>\n",
       "      <th>...</th>\n",
       "      <th>L20_0747_gDNA-VHIO_45</th>\n",
       "      <th>CTAX023_PDX-VHIO_45</th>\n",
       "      <th>L19_6479_gDNA-VHIO_46</th>\n",
       "      <th>CTAX039_PDX-VHIO_46</th>\n",
       "      <th>L19_5546_gDNA-VHIO_47</th>\n",
       "      <th>CTAX002_PDX-VHIO_47</th>\n",
       "      <th>L19_5548_gDNA-VHIO_48</th>\n",
       "      <th>T074_PDX-VHIO_48</th>\n",
       "      <th>T160_PDX-VHIO_49</th>\n",
       "      <th>L19_5549_gDNA-VHIO_49</th>\n",
       "    </tr>\n",
       "  </thead>\n",
       "  <tbody>\n",
       "    <tr>\n",
       "      <th>22393</th>\n",
       "      <td>chr15:98451851 GA&gt;TG</td>\n",
       "      <td>FAM169B</td>\n",
       "      <td>missense_variant</td>\n",
       "      <td>p.Ser115Gln</td>\n",
       "      <td>transcript</td>\n",
       "      <td>Na</td>\n",
       "      <td>Na</td>\n",
       "      <td>Na</td>\n",
       "      <td>Na:Na</td>\n",
       "      <td>Na</td>\n",
       "      <td>...</td>\n",
       "      <td>0.0</td>\n",
       "      <td>0.0</td>\n",
       "      <td>0.0</td>\n",
       "      <td>0.0</td>\n",
       "      <td>0.0</td>\n",
       "      <td>0.0</td>\n",
       "      <td>0.0</td>\n",
       "      <td>0.0</td>\n",
       "      <td>0.0</td>\n",
       "      <td>0.0</td>\n",
       "    </tr>\n",
       "    <tr>\n",
       "      <th>22394</th>\n",
       "      <td>chrX:115190649 G&gt;A</td>\n",
       "      <td>RBMXL3</td>\n",
       "      <td>missense_variant</td>\n",
       "      <td>p.Gly403Asp</td>\n",
       "      <td>transcript</td>\n",
       "      <td>Na</td>\n",
       "      <td>Na</td>\n",
       "      <td>Na</td>\n",
       "      <td>Na:Na</td>\n",
       "      <td>N</td>\n",
       "      <td>...</td>\n",
       "      <td>0.0</td>\n",
       "      <td>0.0</td>\n",
       "      <td>0.0</td>\n",
       "      <td>0.0</td>\n",
       "      <td>0.0</td>\n",
       "      <td>0.0</td>\n",
       "      <td>0.0</td>\n",
       "      <td>0.0</td>\n",
       "      <td>0.0</td>\n",
       "      <td>0.0</td>\n",
       "    </tr>\n",
       "    <tr>\n",
       "      <th>22395</th>\n",
       "      <td>chrX:115190652 G&gt;A</td>\n",
       "      <td>RBMXL3</td>\n",
       "      <td>missense_variant</td>\n",
       "      <td>p.Arg404His</td>\n",
       "      <td>transcript</td>\n",
       "      <td>rs868954518</td>\n",
       "      <td>9.256e-05</td>\n",
       "      <td>Na</td>\n",
       "      <td>Na:Na</td>\n",
       "      <td>N</td>\n",
       "      <td>...</td>\n",
       "      <td>0.0</td>\n",
       "      <td>0.0</td>\n",
       "      <td>0.0</td>\n",
       "      <td>0.0</td>\n",
       "      <td>0.0</td>\n",
       "      <td>0.0</td>\n",
       "      <td>0.0</td>\n",
       "      <td>0.0</td>\n",
       "      <td>0.0</td>\n",
       "      <td>0.0</td>\n",
       "    </tr>\n",
       "  </tbody>\n",
       "</table>\n",
       "<p>3 rows × 165 columns</p>\n",
       "</div>"
      ],
      "text/plain": [
       "                VARIANT_KEY     GENE            EFFECT     AACHANGE  \\\n",
       "22393  chr15:98451851 GA>TG  FAM169B  missense_variant  p.Ser115Gln   \n",
       "22394    chrX:115190649 G>A   RBMXL3  missense_variant  p.Gly403Asp   \n",
       "22395    chrX:115190652 G>A   RBMXL3  missense_variant  p.Arg404His   \n",
       "\n",
       "             TYPE        DBSNP     GNOMAD COSMI70 CLINVAR  \\\n",
       "22393  transcript           Na         Na      Na   Na:Na   \n",
       "22394  transcript           Na         Na      Na   Na:Na   \n",
       "22395  transcript  rs868954518  9.256e-05      Na   Na:Na   \n",
       "\n",
       "      MutationAssessor_pred  ... L20_0747_gDNA-VHIO_45  CTAX023_PDX-VHIO_45  \\\n",
       "22393                    Na  ...                   0.0                  0.0   \n",
       "22394                     N  ...                   0.0                  0.0   \n",
       "22395                     N  ...                   0.0                  0.0   \n",
       "\n",
       "       L19_6479_gDNA-VHIO_46  CTAX039_PDX-VHIO_46  L19_5546_gDNA-VHIO_47  \\\n",
       "22393                    0.0                  0.0                    0.0   \n",
       "22394                    0.0                  0.0                    0.0   \n",
       "22395                    0.0                  0.0                    0.0   \n",
       "\n",
       "       CTAX002_PDX-VHIO_47  L19_5548_gDNA-VHIO_48  T074_PDX-VHIO_48  \\\n",
       "22393                  0.0                    0.0               0.0   \n",
       "22394                  0.0                    0.0               0.0   \n",
       "22395                  0.0                    0.0               0.0   \n",
       "\n",
       "       T160_PDX-VHIO_49  L19_5549_gDNA-VHIO_49  \n",
       "22393               0.0                    0.0  \n",
       "22394               0.0                    0.0  \n",
       "22395               0.0                    0.0  \n",
       "\n",
       "[3 rows x 165 columns]"
      ]
     },
     "execution_count": 4,
     "metadata": {},
     "output_type": "execute_result"
    }
   ],
   "source": [
    "genes_table[genes_table.loc[:,'B19_0976__13_105040__26_tumor-VHIO_08'] != 0]"
   ]
  },
  {
   "cell_type": "code",
   "execution_count": 5,
   "metadata": {},
   "outputs": [],
   "source": [
    "genes_table = pd.read_csv('../analysis/merged_variants_anno.txt', sep=\"\\t\", header=0)"
   ]
  },
  {
   "cell_type": "code",
   "execution_count": 7,
   "metadata": {},
   "outputs": [
    {
     "data": {
      "text/plain": [
       "22393     Mutect:88;4;4.5\n",
       "22394    Mutect:100;2;2.4\n",
       "22395    Mutect:101;2;2.3\n",
       "Name: B19_0976__13_105040__26_tumor-VHIO_08, dtype: object"
      ]
     },
     "execution_count": 7,
     "metadata": {},
     "output_type": "execute_result"
    }
   ],
   "source": [
    "genes_table.loc[genes_table.loc[:,'B19_0976__13_105040__26_tumor-VHIO_08'] != 'Na', 'B19_0976__13_105040__26_tumor-VHIO_08']"
   ]
  },
  {
   "cell_type": "code",
   "execution_count": null,
   "metadata": {},
   "outputs": [],
   "source": []
  }
 ],
 "metadata": {
  "kernelspec": {
   "display_name": "Python 3",
   "language": "python",
   "name": "python3"
  },
  "language_info": {
   "codemirror_mode": {
    "name": "ipython",
    "version": 3
   },
   "file_extension": ".py",
   "mimetype": "text/x-python",
   "name": "python",
   "nbconvert_exporter": "python",
   "pygments_lexer": "ipython3",
   "version": "3.8.5"
  }
 },
 "nbformat": 4,
 "nbformat_minor": 4
}
