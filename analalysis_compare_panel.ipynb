{
 "cells": [
  {
   "cell_type": "code",
   "execution_count": 2,
   "metadata": {},
   "outputs": [],
   "source": [
    "import pandas as pd\n",
    "\n",
    "metasamples = pd.read_csv(\"samples.tsv\", sep=\"\\t\", header=None)\n",
    "metaanalysis = pd.read_excel(\"postanalysis3.xlsx\")\n",
    "\n",
    "metasamples.columns = ['PATIENT_ID', 'GENDER', \"TUMOR\", \"SAMPLE_ID\", \"LANE\", \"FASTQ1\", \"FASTQ2\"]\n",
    "metasamples = metasamples[metasamples['PATIENT_ID'].isin(metaanalysis['PATIENT_ID']) & metasamples['LANE'] == 1]\n",
    "\n",
    "metaanalysis['SAMPLE_ID'] = metaanalysis['SAMPLE_ID'].astype(str)\n",
    "metaanalysis['SAMPLE_ID'] = metaanalysis['SAMPLE_ID'].str.replace('.', '')\n",
    "metaanalysis['SAMPLE_ID'] = metaanalysis['SAMPLE_ID'].str.replace('(', '_')\n",
    "metaanalysis['SAMPLE_ID'] = metaanalysis['SAMPLE_ID'].str.replace(')', '_')\n",
    "metaanalysis['SAMPLE_ID'] = metaanalysis['SAMPLE_ID'].str.replace('/', '_')\n",
    "metaanalysis['SAMPLE_ID'] = metaanalysis['SAMPLE_ID'].str.replace('-', '_')\n",
    "metaanalysis['SAMPLE_ID'] = metaanalysis['SAMPLE_ID'].str.replace(' ', '_')"
   ]
  }
 ],
 "metadata": {
  "kernelspec": {
   "display_name": "Python 3",
   "language": "python",
   "name": "python3"
  },
  "language_info": {
   "codemirror_mode": {
    "name": "ipython",
    "version": 3
   },
   "file_extension": ".py",
   "mimetype": "text/x-python",
   "name": "python",
   "nbconvert_exporter": "python",
   "pygments_lexer": "ipython3",
   "version": "3.8.5"
  }
 },
 "nbformat": 4,
 "nbformat_minor": 4
}
