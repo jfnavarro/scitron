{
 "cells": [
  {
   "cell_type": "code",
   "execution_count": 1,
   "metadata": {},
   "outputs": [
    {
     "name": "stderr",
     "output_type": "stream",
     "text": [
      "Warning message:\n",
      "“replacing previous import ‘Biostrings::translate’ by ‘seqinr::translate’ when loading ‘dndscv’”\n"
     ]
    }
   ],
   "source": [
    "library(\"dndscv\")\n",
    "library(\"readxl\")\n",
    "\n",
    "mutations = read.table('../analysis/merged_maf.txt', \n",
    "                       sep=\"\\t\", check.names=FALSE, header=TRUE, row.names=NULL)\n",
    "metasamples = as.data.frame(read_excel('../Metadata.xlsx'))"
   ]
  },
  {
   "cell_type": "code",
   "execution_count": 2,
   "metadata": {},
   "outputs": [
    {
     "data": {
      "text/html": [
       "<table>\n",
       "<caption>A data.frame: 6 × 21</caption>\n",
       "<thead>\n",
       "\t<tr><th></th><th scope=col>PATIENT_ID</th><th scope=col>SAMPLE_ID</th><th scope=col>SAMPLE_TYPE</th><th scope=col>GENDER</th><th scope=col>INCLUDED</th><th scope=col>DAYS_AFTER_TREATMENT</th><th scope=col>AGE_DX</th><th scope=col>VAR1</th><th scope=col>VAR2</th><th scope=col>VAR3</th><th scope=col>⋯</th><th scope=col>VAR5</th><th scope=col>VAR6</th><th scope=col>VAR7</th><th scope=col>LANE</th><th scope=col>FASTA1</th><th scope=col>FASTA2</th><th scope=col>ROUND</th><th scope=col>MSI_ISH</th><th scope=col>MSI_SCORE</th><th scope=col>TUMOR_ONLY</th></tr>\n",
       "\t<tr><th></th><th scope=col>&lt;chr&gt;</th><th scope=col>&lt;chr&gt;</th><th scope=col>&lt;chr&gt;</th><th scope=col>&lt;chr&gt;</th><th scope=col>&lt;chr&gt;</th><th scope=col>&lt;dbl&gt;</th><th scope=col>&lt;dbl&gt;</th><th scope=col>&lt;chr&gt;</th><th scope=col>&lt;chr&gt;</th><th scope=col>&lt;chr&gt;</th><th scope=col>⋯</th><th scope=col>&lt;chr&gt;</th><th scope=col>&lt;chr&gt;</th><th scope=col>&lt;chr&gt;</th><th scope=col>&lt;dbl&gt;</th><th scope=col>&lt;chr&gt;</th><th scope=col>&lt;chr&gt;</th><th scope=col>&lt;chr&gt;</th><th scope=col>&lt;chr&gt;</th><th scope=col>&lt;chr&gt;</th><th scope=col>&lt;chr&gt;</th></tr>\n",
       "</thead>\n",
       "<tbody>\n",
       "\t<tr><th scope=row>1</th><td>VHIO_01</td><td>1123_3_cfDNA                        </td><td>cfDNA</td><td>XX</td><td>Y </td><td>224</td><td>55</td><td>BEFORE</td><td>F </td><td>PD      </td><td>⋯</td><td>2L</td><td>1L_2L</td><td>triplete</td><td>1</td><td>s3://scitron/exomes/1123_1.fastq.gz            </td><td>s3://scitron/exomes/1123_2.fastq.gz            </td><td>FIRST </td><td>MSS</td><td>8.32 </td><td>No</td></tr>\n",
       "\t<tr><th scope=row>2</th><td>VHIO_01</td><td>1261_2_cfDNA                        </td><td>cfDNA</td><td>XX</td><td>Y </td><td>310</td><td>55</td><td>NA    </td><td>F </td><td>PD      </td><td>⋯</td><td>2L</td><td>1L_2L</td><td>triplete</td><td>1</td><td>s3://scitron/exomes/1261_1.fastq.gz            </td><td>s3://scitron/exomes/1261_2.fastq.gz            </td><td>FIRST </td><td>MSS</td><td>13.29</td><td>No</td></tr>\n",
       "\t<tr><th scope=row>3</th><td>VHIO_01</td><td>B19_0970__VH_17_B_022863_A5__1_tumor</td><td>tumor</td><td>XX</td><td>Y </td><td>266</td><td>55</td><td>AFTER </td><td>F </td><td>PD      </td><td>⋯</td><td>2L</td><td>1L_2L</td><td>triplete</td><td>1</td><td>s3://scitron/exomes/B19_0970_S3_R1_001.fastq.gz</td><td>s3://scitron/exomes/B19_0970_S3_R2_001.fastq.gz</td><td>FIRST </td><td>MSS</td><td>1.95 </td><td>No</td></tr>\n",
       "\t<tr><th scope=row>4</th><td>VHIO_01</td><td>B19_0971__17_22863_A1__0_gDNA       </td><td>gDNA </td><td>XX</td><td>NA</td><td> NA</td><td>NA</td><td>NA    </td><td>NA</td><td>NA      </td><td>⋯</td><td>NA</td><td>NA   </td><td>NA      </td><td>1</td><td>s3://scitron/exomes/B19_0971_S4_R1_001.fastq.gz</td><td>s3://scitron/exomes/B19_0971_S4_R2_001.fastq.gz</td><td>FIRST </td><td>NA </td><td>Na   </td><td>Na</td></tr>\n",
       "\t<tr><th scope=row>5</th><td>VHIO_02</td><td>1514_5_cfDNA                        </td><td>cfDNA</td><td>XY</td><td>Y </td><td>336</td><td>57</td><td>NA    </td><td>F </td><td>short SD</td><td>⋯</td><td>2L</td><td>1L_2L</td><td>doblete </td><td>1</td><td>s3://scitron/exomes/1514_1.fastq.gz            </td><td>s3://scitron/exomes/1514_2.fastq.gz            </td><td>FOURTH</td><td>MSS</td><td>7.57 </td><td>No</td></tr>\n",
       "\t<tr><th scope=row>6</th><td>VHIO_02</td><td>916_6_cfDNA                         </td><td>cfDNA</td><td>XY</td><td>Y </td><td> 35</td><td>57</td><td>NA    </td><td>F </td><td>short SD</td><td>⋯</td><td>2L</td><td>1L_2L</td><td>doblete </td><td>1</td><td>s3://scitron/exomes/916_1.fastq.gz             </td><td>s3://scitron/exomes/916_2.fastq.gz             </td><td>FOURTH</td><td>MSS</td><td>6.79 </td><td>No</td></tr>\n",
       "</tbody>\n",
       "</table>\n"
      ],
      "text/latex": [
       "A data.frame: 6 × 21\n",
       "\\begin{tabular}{r|lllllllllllllllllllll}\n",
       "  & PATIENT\\_ID & SAMPLE\\_ID & SAMPLE\\_TYPE & GENDER & INCLUDED & DAYS\\_AFTER\\_TREATMENT & AGE\\_DX & VAR1 & VAR2 & VAR3 & ⋯ & VAR5 & VAR6 & VAR7 & LANE & FASTA1 & FASTA2 & ROUND & MSI\\_ISH & MSI\\_SCORE & TUMOR\\_ONLY\\\\\n",
       "  & <chr> & <chr> & <chr> & <chr> & <chr> & <dbl> & <dbl> & <chr> & <chr> & <chr> & ⋯ & <chr> & <chr> & <chr> & <dbl> & <chr> & <chr> & <chr> & <chr> & <chr> & <chr>\\\\\n",
       "\\hline\n",
       "\t1 & VHIO\\_01 & 1123\\_3\\_cfDNA                         & cfDNA & XX & Y  & 224 & 55 & BEFORE & F  & PD       & ⋯ & 2L & 1L\\_2L & triplete & 1 & s3://scitron/exomes/1123\\_1.fastq.gz             & s3://scitron/exomes/1123\\_2.fastq.gz             & FIRST  & MSS & 8.32  & No\\\\\n",
       "\t2 & VHIO\\_01 & 1261\\_2\\_cfDNA                         & cfDNA & XX & Y  & 310 & 55 & NA     & F  & PD       & ⋯ & 2L & 1L\\_2L & triplete & 1 & s3://scitron/exomes/1261\\_1.fastq.gz             & s3://scitron/exomes/1261\\_2.fastq.gz             & FIRST  & MSS & 13.29 & No\\\\\n",
       "\t3 & VHIO\\_01 & B19\\_0970\\_\\_VH\\_17\\_B\\_022863\\_A5\\_\\_1\\_tumor & tumor & XX & Y  & 266 & 55 & AFTER  & F  & PD       & ⋯ & 2L & 1L\\_2L & triplete & 1 & s3://scitron/exomes/B19\\_0970\\_S3\\_R1\\_001.fastq.gz & s3://scitron/exomes/B19\\_0970\\_S3\\_R2\\_001.fastq.gz & FIRST  & MSS & 1.95  & No\\\\\n",
       "\t4 & VHIO\\_01 & B19\\_0971\\_\\_17\\_22863\\_A1\\_\\_0\\_gDNA        & gDNA  & XX & NA &  NA & NA & NA     & NA & NA       & ⋯ & NA & NA    & NA       & 1 & s3://scitron/exomes/B19\\_0971\\_S4\\_R1\\_001.fastq.gz & s3://scitron/exomes/B19\\_0971\\_S4\\_R2\\_001.fastq.gz & FIRST  & NA  & Na    & Na\\\\\n",
       "\t5 & VHIO\\_02 & 1514\\_5\\_cfDNA                         & cfDNA & XY & Y  & 336 & 57 & NA     & F  & short SD & ⋯ & 2L & 1L\\_2L & doblete  & 1 & s3://scitron/exomes/1514\\_1.fastq.gz             & s3://scitron/exomes/1514\\_2.fastq.gz             & FOURTH & MSS & 7.57  & No\\\\\n",
       "\t6 & VHIO\\_02 & 916\\_6\\_cfDNA                          & cfDNA & XY & Y  &  35 & 57 & NA     & F  & short SD & ⋯ & 2L & 1L\\_2L & doblete  & 1 & s3://scitron/exomes/916\\_1.fastq.gz              & s3://scitron/exomes/916\\_2.fastq.gz              & FOURTH & MSS & 6.79  & No\\\\\n",
       "\\end{tabular}\n"
      ],
      "text/markdown": [
       "\n",
       "A data.frame: 6 × 21\n",
       "\n",
       "| <!--/--> | PATIENT_ID &lt;chr&gt; | SAMPLE_ID &lt;chr&gt; | SAMPLE_TYPE &lt;chr&gt; | GENDER &lt;chr&gt; | INCLUDED &lt;chr&gt; | DAYS_AFTER_TREATMENT &lt;dbl&gt; | AGE_DX &lt;dbl&gt; | VAR1 &lt;chr&gt; | VAR2 &lt;chr&gt; | VAR3 &lt;chr&gt; | ⋯ ⋯ | VAR5 &lt;chr&gt; | VAR6 &lt;chr&gt; | VAR7 &lt;chr&gt; | LANE &lt;dbl&gt; | FASTA1 &lt;chr&gt; | FASTA2 &lt;chr&gt; | ROUND &lt;chr&gt; | MSI_ISH &lt;chr&gt; | MSI_SCORE &lt;chr&gt; | TUMOR_ONLY &lt;chr&gt; |\n",
       "|---|---|---|---|---|---|---|---|---|---|---|---|---|---|---|---|---|---|---|---|---|---|\n",
       "| 1 | VHIO_01 | 1123_3_cfDNA                         | cfDNA | XX | Y  | 224 | 55 | BEFORE | F  | PD       | ⋯ | 2L | 1L_2L | triplete | 1 | s3://scitron/exomes/1123_1.fastq.gz             | s3://scitron/exomes/1123_2.fastq.gz             | FIRST  | MSS | 8.32  | No |\n",
       "| 2 | VHIO_01 | 1261_2_cfDNA                         | cfDNA | XX | Y  | 310 | 55 | NA     | F  | PD       | ⋯ | 2L | 1L_2L | triplete | 1 | s3://scitron/exomes/1261_1.fastq.gz             | s3://scitron/exomes/1261_2.fastq.gz             | FIRST  | MSS | 13.29 | No |\n",
       "| 3 | VHIO_01 | B19_0970__VH_17_B_022863_A5__1_tumor | tumor | XX | Y  | 266 | 55 | AFTER  | F  | PD       | ⋯ | 2L | 1L_2L | triplete | 1 | s3://scitron/exomes/B19_0970_S3_R1_001.fastq.gz | s3://scitron/exomes/B19_0970_S3_R2_001.fastq.gz | FIRST  | MSS | 1.95  | No |\n",
       "| 4 | VHIO_01 | B19_0971__17_22863_A1__0_gDNA        | gDNA  | XX | NA |  NA | NA | NA     | NA | NA       | ⋯ | NA | NA    | NA       | 1 | s3://scitron/exomes/B19_0971_S4_R1_001.fastq.gz | s3://scitron/exomes/B19_0971_S4_R2_001.fastq.gz | FIRST  | NA  | Na    | Na |\n",
       "| 5 | VHIO_02 | 1514_5_cfDNA                         | cfDNA | XY | Y  | 336 | 57 | NA     | F  | short SD | ⋯ | 2L | 1L_2L | doblete  | 1 | s3://scitron/exomes/1514_1.fastq.gz             | s3://scitron/exomes/1514_2.fastq.gz             | FOURTH | MSS | 7.57  | No |\n",
       "| 6 | VHIO_02 | 916_6_cfDNA                          | cfDNA | XY | Y  |  35 | 57 | NA     | F  | short SD | ⋯ | 2L | 1L_2L | doblete  | 1 | s3://scitron/exomes/916_1.fastq.gz              | s3://scitron/exomes/916_2.fastq.gz              | FOURTH | MSS | 6.79  | No |\n",
       "\n"
      ],
      "text/plain": [
       "  PATIENT_ID SAMPLE_ID                            SAMPLE_TYPE GENDER INCLUDED\n",
       "1 VHIO_01    1123_3_cfDNA                         cfDNA       XX     Y       \n",
       "2 VHIO_01    1261_2_cfDNA                         cfDNA       XX     Y       \n",
       "3 VHIO_01    B19_0970__VH_17_B_022863_A5__1_tumor tumor       XX     Y       \n",
       "4 VHIO_01    B19_0971__17_22863_A1__0_gDNA        gDNA        XX     NA      \n",
       "5 VHIO_02    1514_5_cfDNA                         cfDNA       XY     Y       \n",
       "6 VHIO_02    916_6_cfDNA                          cfDNA       XY     Y       \n",
       "  DAYS_AFTER_TREATMENT AGE_DX VAR1   VAR2 VAR3     ⋯ VAR5 VAR6  VAR7     LANE\n",
       "1 224                  55     BEFORE F    PD       ⋯ 2L   1L_2L triplete 1   \n",
       "2 310                  55     NA     F    PD       ⋯ 2L   1L_2L triplete 1   \n",
       "3 266                  55     AFTER  F    PD       ⋯ 2L   1L_2L triplete 1   \n",
       "4  NA                  NA     NA     NA   NA       ⋯ NA   NA    NA       1   \n",
       "5 336                  57     NA     F    short SD ⋯ 2L   1L_2L doblete  1   \n",
       "6  35                  57     NA     F    short SD ⋯ 2L   1L_2L doblete  1   \n",
       "  FASTA1                                         \n",
       "1 s3://scitron/exomes/1123_1.fastq.gz            \n",
       "2 s3://scitron/exomes/1261_1.fastq.gz            \n",
       "3 s3://scitron/exomes/B19_0970_S3_R1_001.fastq.gz\n",
       "4 s3://scitron/exomes/B19_0971_S4_R1_001.fastq.gz\n",
       "5 s3://scitron/exomes/1514_1.fastq.gz            \n",
       "6 s3://scitron/exomes/916_1.fastq.gz             \n",
       "  FASTA2                                          ROUND  MSI_ISH MSI_SCORE\n",
       "1 s3://scitron/exomes/1123_2.fastq.gz             FIRST  MSS     8.32     \n",
       "2 s3://scitron/exomes/1261_2.fastq.gz             FIRST  MSS     13.29    \n",
       "3 s3://scitron/exomes/B19_0970_S3_R2_001.fastq.gz FIRST  MSS     1.95     \n",
       "4 s3://scitron/exomes/B19_0971_S4_R2_001.fastq.gz FIRST  NA      Na       \n",
       "5 s3://scitron/exomes/1514_2.fastq.gz             FOURTH MSS     7.57     \n",
       "6 s3://scitron/exomes/916_2.fastq.gz              FOURTH MSS     6.79     \n",
       "  TUMOR_ONLY\n",
       "1 No        \n",
       "2 No        \n",
       "3 No        \n",
       "4 Na        \n",
       "5 No        \n",
       "6 No        "
      ]
     },
     "metadata": {},
     "output_type": "display_data"
    }
   ],
   "source": [
    "head(metasamples)"
   ]
  },
  {
   "cell_type": "code",
   "execution_count": 3,
   "metadata": {},
   "outputs": [],
   "source": [
    "# Keep only samples that are tumor-normal pair and labeled as included\n",
    "df = metasamples[(metasamples$INCLUDED == \"Y\") \n",
    "                 & (metasamples$TUMOR_ONLY == \"No\")\n",
    "                 & (metasamples$SAMPLE_TYPE != \"gDNA\")\n",
    "                 & (metasamples$VAR1 %in% c('BEFORE', 'AFTER')), \n",
    "                 c('PATIENT_ID', 'SAMPLE_ID')]\n",
    "rownames(metasamples) = metasamples$SAMPLE_ID\n",
    "meta_filtered = metasamples[df$SAMPLE_ID,]\n",
    "SAMPLES = paste(df$SAMPLE_ID, df$PATIENT_ID, sep=\"-\")\n",
    "rownames(meta_filtered) = SAMPLES\n",
    "mutations_filtered = mutations[mutations$Tumor_Sample_Barcode %in% SAMPLES, \n",
    "                               c('Tumor_Sample_Barcode', 'Chromosome', 'Start_Position', 'Reference_Allele', 'Tumor_Seq_Allele2')]"
   ]
  },
  {
   "cell_type": "code",
   "execution_count": 4,
   "metadata": {},
   "outputs": [
    {
     "name": "stderr",
     "output_type": "stream",
     "text": [
      "[1] Loading the environment...\n",
      "\n",
      "[2] Annotating the mutations...\n",
      "\n",
      "Warning message in dndscv(mut, refdb = \"../dndscv_data/data/RefCDS_human_GRCh38.p12.rda\", :\n",
      "“Same mutations observed in different sampleIDs. Please verify that these are independent events and remove duplicates otherwise.”\n",
      "[3] Estimating global rates...\n",
      "\n",
      "Warning message:\n",
      "“glm.fit: fitted rates numerically 0 occurred”\n",
      "Warning message:\n",
      "“glm.fit: fitted rates numerically 0 occurred”\n",
      "Warning message:\n",
      "“glm.fit: fitted rates numerically 0 occurred”\n",
      "[4] Running dNdSloc...\n",
      "\n",
      "[5] Running dNdScv...\n",
      "\n",
      "    Regression model for substitutions: no covariates were used (theta = 7.87e-05).\n",
      "\n",
      "    Regression model for indels (theta = 0.0516)\n",
      "\n"
     ]
    }
   ],
   "source": [
    "sel = rownames(meta_filtered[meta_filtered$VAR1 == 'BEFORE',])\n",
    "mut = mutations_filtered[mutations_filtered$Tumor_Sample_Barcode %in% sel,]\n",
    "dndsout = dndscv(mut, refdb=\"../dndscv_data/data/RefCDS_human_GRCh38.p12.rda\", cv=NULL)\n",
    "\n",
    "sel_cv = dndsout$sel_cv\n",
    "signif_genes = sel_cv[sel_cv$pglobal_cv < 0.05, c(\"gene_name\", \"pglobal_cv\", \"qglobal_cv\")]\n",
    "rownames(signif_genes) = NULL\n",
    "signif_genes$pglobal_cv = round(signif_genes$pglobal_cv, digits=3)\n",
    "signif_genes$qglobal_cv = round(signif_genes$qglobal_cv, digits=3)\n",
    "write.table(signif_genes, file='../analysis/analysis_before_after/BEFORE/genes_table_dndscv.txt', \n",
    "            sep=\"\\t\", row.names=FALSE, col.names=TRUE, quote=FALSE)"
   ]
  },
  {
   "cell_type": "code",
   "execution_count": 5,
   "metadata": {},
   "outputs": [
    {
     "name": "stderr",
     "output_type": "stream",
     "text": [
      "[1] Loading the environment...\n",
      "\n",
      "[2] Annotating the mutations...\n",
      "\n",
      "Warning message in dndscv(mut, refdb = \"../dndscv_data/data/RefCDS_human_GRCh38.p12.rda\", :\n",
      "“Same mutations observed in different sampleIDs. Please verify that these are independent events and remove duplicates otherwise.”\n",
      "[3] Estimating global rates...\n",
      "\n",
      "Warning message:\n",
      "“glm.fit: fitted rates numerically 0 occurred”\n",
      "Warning message:\n",
      "“glm.fit: fitted rates numerically 0 occurred”\n",
      "Warning message:\n",
      "“glm.fit: fitted rates numerically 0 occurred”\n",
      "[4] Running dNdSloc...\n",
      "\n",
      "[5] Running dNdScv...\n",
      "\n"
     ]
    },
    {
     "ename": "ERROR",
     "evalue": "Error in while ((it <- it + 1) < limit && abs(del) > eps) {: valor ausente donde TRUE/FALSE es necesario\n",
     "output_type": "error",
     "traceback": [
      "Error in while ((it <- it + 1) < limit && abs(del) > eps) {: valor ausente donde TRUE/FALSE es necesario\nTraceback:\n",
      "1. dndscv(mut, refdb = \"../dndscv_data/data/RefCDS_human_GRCh38.p12.rda\", \n .     cv = NULL)",
      "2. MASS::glm.nb(n_syn ~ offset(log(exp_syn)) - 1, data = nbrdf)",
      "3. as.vector(theta.ml(Y, mu, sum(w), w, limit = control$maxit, trace = control$trace > \n .     2))",
      "4. theta.ml(Y, mu, sum(w), w, limit = control$maxit, trace = control$trace > \n .     2)"
     ]
    }
   ],
   "source": [
    "sel = rownames(meta_filtered[meta_filtered$VAR1 == 'AFTER',])\n",
    "mut = mutations_filtered[mutations_filtered$Tumor_Sample_Barcode %in% sel,]\n",
    "dndsout = dndscv(mut, refdb=\"../dndscv_data/data/RefCDS_human_GRCh38.p12.rda\", cv=NULL)\n",
    "\n",
    "sel_cv = dndsout$sel_cv\n",
    "signif_genes = sel_cv[sel_cv$pglobal_cv < 0.05, c(\"gene_name\", \"pglobal_cv\", \"qglobal_cv\")]\n",
    "rownames(signif_genes) = NULL\n",
    "signif_genes$pglobal_cv = round(signif_genes$pglobal_cv, digits=3)\n",
    "signif_genes$qglobal_cv = round(signif_genes$qglobal_cv, digits=3)\n",
    "write.table(signif_genes, file='../analysis/analysis_before_after/AFTER/genes_table_dndscv.txt', \n",
    "            sep=\"\\t\", row.names=FALSE, col.names=TRUE, quote=FALSE)"
   ]
  },
  {
   "cell_type": "code",
   "execution_count": null,
   "metadata": {},
   "outputs": [],
   "source": []
  }
 ],
 "metadata": {
  "kernelspec": {
   "display_name": "R",
   "language": "R",
   "name": "ir"
  },
  "language_info": {
   "codemirror_mode": "r",
   "file_extension": ".r",
   "mimetype": "text/x-r-source",
   "name": "R",
   "pygments_lexer": "r",
   "version": "4.0.3"
  }
 },
 "nbformat": 4,
 "nbformat_minor": 4
}
