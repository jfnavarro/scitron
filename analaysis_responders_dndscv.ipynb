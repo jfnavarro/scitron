{
 "cells": [
  {
   "cell_type": "code",
   "execution_count": 4,
   "metadata": {},
   "outputs": [],
   "source": [
    "library(\"dndscv\")\n",
    "library(\"readxl\")\n",
    "\n",
    "mutations = read.table('../analysis/merged_maf_filtered.txt', \n",
    "                       sep=\"\\t\", check.names=FALSE, header=TRUE, row.names=NULL)\n",
    "metasamples = as.data.frame(read_excel('../Metadata.xlsx'))"
   ]
  },
  {
   "cell_type": "code",
   "execution_count": 5,
   "metadata": {},
   "outputs": [],
   "source": [
    "# Keep only samples that are tumor-normal pair and labeled as included\n",
    "df = metasamples[(metasamples$INCLUDED == \"Y\") \n",
    "                 & (metasamples$TUMOR_ONLY == \"No\")\n",
    "                 & (metasamples$SAMPLE_TYPE != \"gDNA\")\n",
    "                 & (metasamples$VAR2 %in% c('E', 'F')), \n",
    "                 c('PATIENT_ID', 'SAMPLE_ID')]\n",
    "rownames(metasamples) = metasamples$SAMPLE_ID\n",
    "meta_filtered = metasamples[df$SAMPLE_ID,]\n",
    "SAMPLES = paste(df$SAMPLE_ID, df$PATIENT_ID, sep=\"-\")\n",
    "rownames(meta_filtered) = SAMPLES\n",
    "mutations_filtered = mutations[mutations$Tumor_Sample_Barcode %in% SAMPLES, \n",
    "                               c('Tumor_Sample_Barcode', 'Chromosome', 'Start_Position', 'Reference_Allele', 'Tumor_Seq_Allele2')]"
   ]
  },
  {
   "cell_type": "code",
   "execution_count": 6,
   "metadata": {},
   "outputs": [
    {
     "name": "stderr",
     "output_type": "stream",
     "text": [
      "[1] Loading the environment...\n",
      "\n",
      "[2] Annotating the mutations...\n",
      "\n",
      "Warning message in dndscv(mut, refdb = \"../dndscv_data/data/RefCDS_human_GRCh38.p12.rda\", :\n",
      "“Mutations observed in contiguous sites within a sample. Please annotate or remove dinucleotide or complex substitutions for best results.”\n",
      "Warning message in dndscv(mut, refdb = \"../dndscv_data/data/RefCDS_human_GRCh38.p12.rda\", :\n",
      "“Same mutations observed in different sampleIDs. Please verify that these are independent events and remove duplicates otherwise.”\n",
      "    Note: 25 mutations removed for exceeding the limit of mutations per gene per sample (see the max_muts_per_gene_per_sample argument in dndscv)\n",
      "\n",
      "[3] Estimating global rates...\n",
      "\n",
      "[4] Running dNdSloc...\n",
      "\n",
      "[5] Running dNdScv...\n",
      "\n",
      "    Regression model for substitutions: no covariates were used (theta = 0.00254).\n",
      "\n",
      "    Regression model for indels (theta = 1.79)\n",
      "\n"
     ]
    }
   ],
   "source": [
    "sel = rownames(meta_filtered[meta_filtered$VAR2 == 'E',])\n",
    "mut = mutations_filtered[mutations_filtered$Tumor_Sample_Barcode %in% sel,]\n",
    "dndsout = dndscv(mut, refdb=\"../dndscv_data/data/RefCDS_human_GRCh38.p12.rda\", cv=NULL)\n",
    "\n",
    "sel_cv = dndsout$sel_cv\n",
    "signif_genes = sel_cv[sel_cv$pglobal_cv < 0.05, c(\"gene_name\", \"pglobal_cv\", \"qglobal_cv\")]\n",
    "rownames(signif_genes) = NULL\n",
    "signif_genes$pglobal_cv = round(signif_genes$pglobal_cv, digits=3)\n",
    "signif_genes$qglobal_cv = round(signif_genes$qglobal_cv, digits=3)\n",
    "write.table(signif_genes, file='../analysis/analysis_responders/E/genes_table_dndscv.txt', \n",
    "            sep=\"\\t\", row.names=FALSE, col.names=TRUE, quote=FALSE)"
   ]
  },
  {
   "cell_type": "code",
   "execution_count": 7,
   "metadata": {},
   "outputs": [
    {
     "name": "stderr",
     "output_type": "stream",
     "text": [
      "[1] Loading the environment...\n",
      "\n",
      "[2] Annotating the mutations...\n",
      "\n",
      "Warning message in dndscv(mut, refdb = \"../dndscv_data/data/RefCDS_human_GRCh38.p12.rda\", :\n",
      "“Mutations observed in contiguous sites within a sample. Please annotate or remove dinucleotide or complex substitutions for best results.”\n",
      "Warning message in dndscv(mut, refdb = \"../dndscv_data/data/RefCDS_human_GRCh38.p12.rda\", :\n",
      "“Same mutations observed in different sampleIDs. Please verify that these are independent events and remove duplicates otherwise.”\n",
      "    Note: 1 mutations removed for exceeding the limit of mutations per gene per sample (see the max_muts_per_gene_per_sample argument in dndscv)\n",
      "\n",
      "[3] Estimating global rates...\n",
      "\n",
      "[4] Running dNdSloc...\n",
      "\n",
      "[5] Running dNdScv...\n",
      "\n",
      "    Regression model for substitutions: no covariates were used (theta = 0.000166).\n",
      "\n",
      "    Regression model for indels (theta = 2.83)\n",
      "\n"
     ]
    }
   ],
   "source": [
    "sel = rownames(meta_filtered[meta_filtered$VAR2 == 'F',])\n",
    "mut = mutations_filtered[mutations_filtered$Tumor_Sample_Barcode %in% sel,]\n",
    "dndsout = dndscv(mut, refdb=\"../dndscv_data/data/RefCDS_human_GRCh38.p12.rda\", cv=NULL)\n",
    "\n",
    "sel_cv = dndsout$sel_cv\n",
    "signif_genes = sel_cv[sel_cv$pglobal_cv < 0.05, c(\"gene_name\", \"pglobal_cv\", \"qglobal_cv\")]\n",
    "rownames(signif_genes) = NULL\n",
    "signif_genes$pglobal_cv = round(signif_genes$pglobal_cv, digits=3)\n",
    "signif_genes$qglobal_cv = round(signif_genes$qglobal_cv, digits=3)\n",
    "write.table(signif_genes, file='../analysis/analysis_responders/F/genes_table_dndscv.txt', \n",
    "            sep=\"\\t\", row.names=FALSE, col.names=TRUE, quote=FALSE)"
   ]
  },
  {
   "cell_type": "code",
   "execution_count": null,
   "metadata": {},
   "outputs": [],
   "source": []
  }
 ],
 "metadata": {
  "kernelspec": {
   "display_name": "R",
   "language": "R",
   "name": "ir"
  },
  "language_info": {
   "codemirror_mode": "r",
   "file_extension": ".r",
   "mimetype": "text/x-r-source",
   "name": "R",
   "pygments_lexer": "r",
   "version": "4.0.3"
  }
 },
 "nbformat": 4,
 "nbformat_minor": 4
}
