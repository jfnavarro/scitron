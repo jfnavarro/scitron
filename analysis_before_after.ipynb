{
 "cells": [
  {
   "cell_type": "code",
   "execution_count": 30,
   "metadata": {},
   "outputs": [],
   "source": [
    "import pandas as pd\n",
    "mutations = pd.read_csv('../analysis/merged_variants_anno_vaf_filtered.txt', sep=\"\\t\",\n",
    "                        header=0, index_col=0, low_memory=False)\n",
    "metasamples = pd.read_excel('../Metadata2.xlsx')"
   ]
  },
  {
   "cell_type": "code",
   "execution_count": 31,
   "metadata": {},
   "outputs": [],
   "source": [
    "# Keep only samples that are tumor-normal pair and labeled as included\n",
    "df = metasamples.loc[(metasamples['INCLUDED'] == \"Y\")\n",
    "                     & (metasamples['TUMOR_ONLY'] == \"No\")\n",
    "                     & (metasamples['SAMPLE_TYPE'] != \"gDNA\")\n",
    "                     & (metasamples['VAR1'].notnull()),\n",
    "                     ['PATIENT_ID', 'SAMPLE_ID']]\n",
    "metasamples.index = metasamples['SAMPLE_ID']\n",
    "meta_filtered = metasamples.reindex(df['SAMPLE_ID'].tolist())\n",
    "SAMPLES = [x.strip() for x in df['SAMPLE_ID'] + '-' + df['PATIENT_ID']]\n",
    "meta_filtered.index = SAMPLES\n",
    "mutations_filtered = mutations.loc[:, mutations.columns[0:10].to_list() + SAMPLES]"
   ]
  },
  {
   "cell_type": "code",
   "execution_count": 42,
   "metadata": {},
   "outputs": [
    {
     "name": "stdout",
     "output_type": "stream",
     "text": [
      "Total patients (BEFORE) 4\n",
      "Total samples (BEFORE) 6\n",
      "Total patients (AFTER) 4\n",
      "Total samples (AFTER) 4\n"
     ]
    }
   ],
   "source": [
    "print('Total patients (BEFORE) {}'.format(len(set(meta_filtered[meta_filtered['VAR1'] == 'BEFORE']['PATIENT_ID']))))\n",
    "print('Total samples (BEFORE) {}'.format(len(set(meta_filtered[meta_filtered['VAR1'] == 'BEFORE']['SAMPLE_ID']))))\n",
    "\n",
    "print('Total patients (AFTER) {}'.format(len(set(meta_filtered[meta_filtered['VAR1'] == 'AFTER']['PATIENT_ID']))))\n",
    "print('Total samples (AFTER) {}'.format(len(set(meta_filtered[meta_filtered['VAR1'] == 'AFTER']['SAMPLE_ID']))))"
   ]
  },
  {
   "cell_type": "code",
   "execution_count": 35,
   "metadata": {},
   "outputs": [],
   "source": [
    "from collections import defaultdict\n",
    "\n",
    "VAF_FILTER = 5.0\n",
    "NUM_PATIENTS_FILTER = 1\n",
    "\n",
    "mutations_seen_only_BEFORE = list()\n",
    "mutations_seen_only_AFTER = list()\n",
    "mutations_seen_BEFORE = defaultdict(list)\n",
    "mutations_seen_AFTER = defaultdict(list)\n",
    "\n",
    "SAMPLES_BEFORE = meta_filtered[meta_filtered['VAR1'] == 'BEFORE'].index.to_list()\n",
    "SAMPLES_AFTER = meta_filtered[meta_filtered['VAR1'] == 'AFTER'].index.to_list()\n",
    "\n",
    "for index, row in mutations_filtered.iterrows():\n",
    "    samples_before = list()\n",
    "    samples_after = list()\n",
    "    gene = row['GENE']\n",
    "    acc_vaf_BEFORE = 0\n",
    "    acc_vaf_AFTER = 0\n",
    "    \n",
    "    for column, value in row[10:].items():\n",
    "        if float(value) >= VAF_FILTER:\n",
    "            if column in SAMPLES_BEFORE:\n",
    "                acc_vaf_BEFORE += float(value)\n",
    "                samples_before.append(column)\n",
    "            if column in SAMPLES_AFTER:\n",
    "                acc_vaf_AFTER += float(value)\n",
    "                samples_after.append(column)\n",
    "\n",
    "    if len(samples_before) > 0:\n",
    "        patients = set([x.split('-')[-1] for x in samples_before])\n",
    "        for g in gene.split('-'):\n",
    "            mutations_seen_BEFORE[g].append((index, acc_vaf_BEFORE, samples_before, patients))\n",
    "            \n",
    "    if len(samples_after) > 0:\n",
    "        patients = set([x.split('-')[-1] for x in samples_after])\n",
    "        for g in gene.split('-'):\n",
    "            mutations_seen_AFTER[g].append((index, acc_vaf_AFTER, samples_after, patients))\n",
    "            \n",
    "    if len(samples_before) > 0 and len(samples_after) == 0:\n",
    "        patients = set([x.split('-')[-1] for x in samples_before])\n",
    "        if len(patients) >= NUM_PATIENTS_FILTER:\n",
    "            mutations_seen_only_BEFORE.append((index, gene, samples_before, len(samples_before), len(patients)))\n",
    "            \n",
    "    if len(samples_before) == 0 and len(samples_after) > 0:\n",
    "        patients = set([x.split('-')[-1] for x in samples_after])\n",
    "        if len(patients) >= NUM_PATIENTS_FILTER:\n",
    "            mutations_seen_only_AFTER.append((index, gene, samples_after, len(samples_after), len(patients)))"
   ]
  },
  {
   "cell_type": "code",
   "execution_count": 38,
   "metadata": {},
   "outputs": [],
   "source": [
    "with open('../analysis/analysis_before_after/BEFORE/genes_table.txt', 'w') as f:\n",
    "    f.write('GENE\\tCUM_VAF\\tNUM_MUTATIONS\\tMUTATIONS\\tNUM_SAMPLES\\tSAMPLES\\tNUM_PATIENTS\\tPATIENTS\\n')\n",
    "    for gene, records in mutations_seen_BEFORE.items():\n",
    "        acc_vaf = 0\n",
    "        patients = set()\n",
    "        samples = set()\n",
    "        mutations = set()\n",
    "        for mut in records:\n",
    "            acc_vaf += mut[1]\n",
    "            mutations.add(mut[0])\n",
    "            samples.update(mut[2])\n",
    "            patients.update(mut[3])\n",
    "        f.write('\\t'.join([gene,\n",
    "                           str(acc_vaf),\n",
    "                           str(len(mutations)), \n",
    "                           ';'.join(mutations), \n",
    "                           str(len(samples)), \n",
    "                           ';'.join(samples),\n",
    "                           str(len(patients)),\n",
    "                           ';'.join(patients)]) + '\\n')"
   ]
  },
  {
   "cell_type": "code",
   "execution_count": 39,
   "metadata": {},
   "outputs": [],
   "source": [
    "with open('../analysis/analysis_before_after/AFTER/genes_table.txt', 'w') as f:\n",
    "    f.write('GENE\\tCUM_VAF\\tNUM_MUTATIONS\\tMUTATIONS\\tNUM_SAMPLES\\tSAMPLES\\tNUM_PATIENTS\\tPATIENTS\\n')\n",
    "    for gene, records in mutations_seen_AFTER.items():\n",
    "        acc_vaf = 0\n",
    "        patients = set()\n",
    "        samples = set()\n",
    "        mutations = set()\n",
    "        for mut in records:\n",
    "            acc_vaf += mut[1]\n",
    "            mutations.add(mut[0])\n",
    "            samples.update(mut[2])\n",
    "            patients.update(mut[3])\n",
    "        f.write('\\t'.join([gene,\n",
    "                           str(acc_vaf),\n",
    "                           str(len(mutations)), \n",
    "                           ';'.join(mutations), \n",
    "                           str(len(samples)), \n",
    "                           ';'.join(samples),\n",
    "                           str(len(patients)),\n",
    "                           ';'.join(patients)]) + '\\n')"
   ]
  },
  {
   "cell_type": "code",
   "execution_count": 40,
   "metadata": {},
   "outputs": [],
   "source": [
    "import gseapy as gp\n",
    "import matplotlib.pyplot as plt\n",
    "\n",
    "#genes = [x[1] for x in mutations_seen_only_BEFORE]\n",
    "#enr = gp.enrichr(gene_list = genes,\n",
    "#                 gene_sets = ['KEGG_2019_Human','GO_Biological_Process_2018', 'GO_Molecular_Function_2018'],\n",
    "#                 organism = 'Human',\n",
    "#                 description = 'Group BEFORE',\n",
    "#                 outdir = '../analysis/analysis_before_after/BEFORE',\n",
    "#                 # no_plot=True,\n",
    "#                 cutoff = 1.0)\n",
    "\n",
    "mutations_BEFORE = mutations_filtered.loc[[x[0] for x in mutations_seen_only_BEFORE], :]\n",
    "mutations_BEFORE.insert(10, 'SAMPLES', [';'.join(x[2]) for x in mutations_seen_only_BEFORE])\n",
    "mutations_BEFORE.insert(11, 'NUM_SAMPLES', [x[3] for x in mutations_seen_only_BEFORE])\n",
    "mutations_BEFORE.insert(12, 'NUM_PATIENTS', [x[4] for x in mutations_seen_only_BEFORE])\n",
    "mutations_BEFORE.to_csv('../analysis/analysis_before_after/BEFORE/mutations_table.txt', sep=\"\\t\", header=True)"
   ]
  },
  {
   "cell_type": "code",
   "execution_count": 41,
   "metadata": {},
   "outputs": [],
   "source": [
    "genes = [x[1] for x in mutations_seen_only_AFTER]\n",
    "\n",
    "#enr = gp.enrichr(gene_list = genes,\n",
    "#                 gene_sets = ['KEGG_2019_Human','GO_Biological_Process_2018', 'GO_Molecular_Function_2018'],\n",
    "#                 organism = 'Human',\n",
    "#                 description = 'Group AFTER',\n",
    "#                 outdir = 'analysis_before_after/AFTER',\n",
    "#                 # no_plot=True,\n",
    "#                 cutoff = 1.0)\n",
    "\n",
    "mutations_AFTER = mutations_filtered.loc[[x[0] for x in mutations_seen_only_AFTER], :]\n",
    "mutations_AFTER.insert(10, 'SAMPLES', [';'.join(x[2]) for x in mutations_seen_only_AFTER])\n",
    "mutations_AFTER.insert(11, 'NUM_SAMPLES', [x[3] for x in mutations_seen_only_AFTER])\n",
    "mutations_AFTER.insert(12, 'NUM_PATIENTS', [x[4] for x in mutations_seen_only_AFTER])\n",
    "mutations_AFTER.to_csv('../analysis/analysis_before_after/AFTER/mutations_table.txt', sep=\"\\t\", header=True)"
   ]
  },
  {
   "cell_type": "code",
   "execution_count": null,
   "metadata": {},
   "outputs": [],
   "source": []
  },
  {
   "cell_type": "code",
   "execution_count": null,
   "metadata": {},
   "outputs": [],
   "source": []
  }
 ],
 "metadata": {
  "kernelspec": {
   "display_name": "Python 3",
   "language": "python",
   "name": "python3"
  },
  "language_info": {
   "codemirror_mode": {
    "name": "ipython",
    "version": 3
   },
   "file_extension": ".py",
   "mimetype": "text/x-python",
   "name": "python",
   "nbconvert_exporter": "python",
   "pygments_lexer": "ipython3",
   "version": "3.8.5"
  }
 },
 "nbformat": 4,
 "nbformat_minor": 4
}
