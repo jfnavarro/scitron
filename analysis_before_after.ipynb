{
 "cells": [
  {
   "cell_type": "code",
   "execution_count": 24,
   "metadata": {},
   "outputs": [],
   "source": [
    "import pandas as pd\n",
    "mutations = pd.read_csv('merged_variants_anno_vaf_filtered.txt', sep=\"\\t\",\n",
    "                        header=0, index_col=0, low_memory=False)\n",
    "metasamples = pd.read_excel('../Metadata2.xlsx')"
   ]
  },
  {
   "cell_type": "code",
   "execution_count": 25,
   "metadata": {},
   "outputs": [],
   "source": [
    "# Keep only samples that are tumor-normal pair and labeled as included\n",
    "df = metasamples.loc[(metasamples['INCLUDED'] == \"Y\")\n",
    "                     & (metasamples['TUMOR_ONLY'] == \"No\")\n",
    "                     & (metasamples['SAMPLE_TYPE'] != \"gDNA\")\n",
    "                     & (metasamples['VAR1'].notnull()),\n",
    "                     ['PATIENT_ID', 'SAMPLE_ID']]\n",
    "metasamples.index = metasamples['SAMPLE_ID']\n",
    "meta_filtered = metasamples.reindex(df['SAMPLE_ID'].tolist())\n",
    "SAMPLES = [x.strip() for x in df['SAMPLE_ID'] + '-' + df['PATIENT_ID']]\n",
    "meta_filtered.index = SAMPLES\n",
    "mutations.index = mutations['VARIANT_KEY']\n",
    "mutations_filtered = mutations.loc[:, ['GENE'] + SAMPLES]"
   ]
  },
  {
   "cell_type": "code",
   "execution_count": 26,
   "metadata": {},
   "outputs": [],
   "source": [
    "mutations_seen_BEFORE = list()\n",
    "mutations_seen_AFTER = list()\n",
    "\n",
    "SAMPLES_BEFORE = meta_filtered[meta_filtered['VAR1'] == 'BEFORE'].index.to_list()\n",
    "SAMPLES_AFTER = meta_filtered[meta_filtered['VAR1'] == 'AFTER'].index.to_list()\n",
    "GENES = mutations_filtered['GENE']\n",
    "for index, row in mutations_filtered.iloc[:,1:].iterrows():\n",
    "    samples_before = list()\n",
    "    samples_after = list()\n",
    "    for column, value in row.items():\n",
    "        if value >= 5.0:\n",
    "            if column in SAMPLES_BEFORE:\n",
    "                samples_before.append(column)\n",
    "            if column in SAMPLES_AFTER:\n",
    "                samples_after.append(column)\n",
    "    if len(samples_before) > 0 and len(samples_after) == 0:\n",
    "        patients = [x.split('-')[-1] for x in samples_before]\n",
    "        if len(set(patients)) > 0:\n",
    "            mutations_seen_BEFORE.append((index,\n",
    "                                         GENES[index],\n",
    "                                         len(samples_before), \n",
    "                                         len(set([x.split('-')[-1] for x in SAMPLES_BEFORE]))))\n",
    "    if len(samples_before) == 0 and len(samples_after) > 0:\n",
    "        patients = [x.split('-')[-1] for x in samples_after]\n",
    "        if len(set(patients)) > 0:\n",
    "            mutations_seen_AFTER.append((index,\n",
    "                                        GENES[index],\n",
    "                                        len(samples_after), \n",
    "                                        len(set([x.split('-')[-1] for x in SAMPLES_AFTER]))))"
   ]
  },
  {
   "cell_type": "code",
   "execution_count": 27,
   "metadata": {},
   "outputs": [
    {
     "name": "stderr",
     "output_type": "stream",
     "text": [
      "2021-02-02 15:31:07,684 Error fetching enrichment results: KEGG_2019_Human\n",
      "2021-02-02 15:31:10,679 Error fetching enrichment results: GO_Biological_Process_2018\n",
      "2021-02-02 15:31:13,861 Error fetching enrichment results: GO_Molecular_Function_2018\n"
     ]
    }
   ],
   "source": [
    "import gseapy as gp\n",
    "import matplotlib.pyplot as plt\n",
    "\n",
    "genes = [x[1] for x in mutations_seen_BEFORE if x[3] > 1]\n",
    "enr = gp.enrichr(gene_list = genes,\n",
    "                 gene_sets = ['KEGG_2019_Human','GO_Biological_Process_2018', 'GO_Molecular_Function_2018'],\n",
    "                 organism = 'Human',\n",
    "                 description = 'Group BEFORE',\n",
    "                 outdir = 'analysis_before_after/BEFORE',\n",
    "                 # no_plot=True,\n",
    "                 cutoff = 1.0)\n",
    "mutations.loc[[x[0] for x in mutations_seen_BEFORE if x[3] > 1], :].to_csv('analysis_before_after/BEFORE/mutations_table.txt', sep=\"\\t\", header=True)"
   ]
  },
  {
   "cell_type": "code",
   "execution_count": 28,
   "metadata": {},
   "outputs": [
    {
     "name": "stderr",
     "output_type": "stream",
     "text": [
      "2021-02-02 15:31:20,837 Error fetching enrichment results: KEGG_2019_Human\n",
      "2021-02-02 15:31:24,354 Error fetching enrichment results: GO_Biological_Process_2018\n",
      "2021-02-02 15:31:28,342 Error fetching enrichment results: GO_Molecular_Function_2018\n"
     ]
    }
   ],
   "source": [
    "genes = [x[1] for x in mutations_seen_AFTER if x[3] > 1]\n",
    "enr = gp.enrichr(gene_list = genes,\n",
    "                 gene_sets = ['KEGG_2019_Human','GO_Biological_Process_2018', 'GO_Molecular_Function_2018'],\n",
    "                 organism = 'Human',\n",
    "                 description = 'Group AFTER',\n",
    "                 outdir = 'analysis_before_after/AFTER',\n",
    "                 # no_plot=True,\n",
    "                 cutoff = 1.0)\n",
    "mutations.loc[[x[0] for x in mutations_seen_AFTER if x[3] > 1], :].to_csv('analysis_before_after/AFTER/mutations_table.txt', sep=\"\\t\", header=True)"
   ]
  },
  {
   "cell_type": "code",
   "execution_count": null,
   "metadata": {},
   "outputs": [],
   "source": []
  }
 ],
 "metadata": {
  "kernelspec": {
   "display_name": "Python 3",
   "language": "python",
   "name": "python3"
  },
  "language_info": {
   "codemirror_mode": {
    "name": "ipython",
    "version": 3
   },
   "file_extension": ".py",
   "mimetype": "text/x-python",
   "name": "python",
   "nbconvert_exporter": "python",
   "pygments_lexer": "ipython3",
   "version": "3.8.5"
  }
 },
 "nbformat": 4,
 "nbformat_minor": 4
}
