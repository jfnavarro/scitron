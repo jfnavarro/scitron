{
 "cells": [
  {
   "cell_type": "code",
   "execution_count": 14,
   "metadata": {},
   "outputs": [],
   "source": [
    "import pandas as pd\n",
    "mutations = pd.read_csv('../analysis/merged_variants_anno_vaf_filtered.txt', sep=\"\\t\",\n",
    "                        header=0, index_col=0, low_memory=False)\n",
    "metasamples = pd.read_excel('../Metadata2.xlsx')"
   ]
  },
  {
   "cell_type": "code",
   "execution_count": 15,
   "metadata": {},
   "outputs": [],
   "source": [
    "# Keep only samples that are tumor-normal pair and labeled as included\n",
    "df = metasamples.loc[(metasamples['INCLUDED'] == \"Y\")\n",
    "                     & (metasamples['TUMOR_ONLY'] == \"No\")\n",
    "                     & (metasamples['SAMPLE_TYPE'] != \"gDNA\")\n",
    "                     & (metasamples['VAR1'].notnull()),\n",
    "                     ['PATIENT_ID', 'SAMPLE_ID']]\n",
    "metasamples.index = metasamples['SAMPLE_ID']\n",
    "meta_filtered = metasamples.reindex(df['SAMPLE_ID'].tolist())\n",
    "SAMPLES = [x.strip() for x in df['SAMPLE_ID'] + '-' + df['PATIENT_ID']]\n",
    "meta_filtered.index = SAMPLES\n",
    "mutations_filtered = mutations.loc[:, mutations.columns[0:10].to_list() + SAMPLES]"
   ]
  },
  {
   "cell_type": "code",
   "execution_count": 16,
   "metadata": {},
   "outputs": [
    {
     "name": "stdout",
     "output_type": "stream",
     "text": [
      "{'VHIO_01', 'VHIO_21', 'VHIO_10', 'VHIO_40'}\n",
      "4\n"
     ]
    }
   ],
   "source": [
    "print(set(meta_filtered['PATIENT_ID']))\n",
    "print(len(set(meta_filtered['PATIENT_ID'])))"
   ]
  },
  {
   "cell_type": "code",
   "execution_count": 17,
   "metadata": {},
   "outputs": [],
   "source": [
    "VAF_FILTER = 5.0\n",
    "NUM_PATIENTS_FILTER = 1\n",
    "\n",
    "mutations_seen_BEFORE = list()\n",
    "mutations_seen_AFTER = list()\n",
    "\n",
    "SAMPLES_BEFORE = meta_filtered[meta_filtered['VAR1'] == 'BEFORE'].index.to_list()\n",
    "SAMPLES_AFTER = meta_filtered[meta_filtered['VAR1'] == 'AFTER'].index.to_list()\n",
    "\n",
    "for index, row in mutations_filtered.iterrows():\n",
    "    samples_before = list()\n",
    "    samples_after = list()\n",
    "    gene = row['GENE']\n",
    "    for column, value in row[10:].items():\n",
    "        if float(value) >= VAF_FILTER:\n",
    "            if column in SAMPLES_BEFORE:\n",
    "                samples_before.append(column)\n",
    "            if column in SAMPLES_AFTER:\n",
    "                samples_after.append(column)\n",
    "    if len(samples_before) > 0 and len(samples_after) == 0:\n",
    "        patients = set([x.split('-')[-1] for x in samples_before])\n",
    "        if len(patients) > NUM_PATIENTS_FILTER:\n",
    "            mutations_seen_BEFORE.append((index, gene, samples_before, len(samples_before), len(patients)))\n",
    "    if len(samples_before) == 0 and len(samples_after) > 0:\n",
    "        patients = set([x.split('-')[-1] for x in samples_after])\n",
    "        if len(patients) > NUM_PATIENTS_FILTER:\n",
    "            mutations_seen_AFTER.append((index, gene, samples_after, len(samples_after), len(patients)))"
   ]
  },
  {
   "cell_type": "code",
   "execution_count": 18,
   "metadata": {},
   "outputs": [
    {
     "data": {
      "text/plain": [
       "[('chr7:140753336 A>T',\n",
       "  'BRAF',\n",
       "  ['1123_3_cfDNA-VHIO_01',\n",
       "   'DAS_529_93_cfDNA-VHIO_40',\n",
       "   'CTAX033_PDX-VHIO_40',\n",
       "   'DAS_16_658947_MPP216_L18_4333_89_tumor-VHIO_40'],\n",
       "  4,\n",
       "  2)]"
      ]
     },
     "execution_count": 18,
     "metadata": {},
     "output_type": "execute_result"
    }
   ],
   "source": [
    "mutations_seen_BEFORE"
   ]
  },
  {
   "cell_type": "code",
   "execution_count": 19,
   "metadata": {},
   "outputs": [
    {
     "data": {
      "text/plain": [
       "[]"
      ]
     },
     "execution_count": 19,
     "metadata": {},
     "output_type": "execute_result"
    }
   ],
   "source": [
    "mutations_seen_AFTER"
   ]
  },
  {
   "cell_type": "code",
   "execution_count": 21,
   "metadata": {},
   "outputs": [
    {
     "name": "stderr",
     "output_type": "stream",
     "text": [
      "2021-02-03 19:02:43,889 Error fetching enrichment results: KEGG_2019_Human\n",
      "2021-02-03 19:02:46,612 Error fetching enrichment results: GO_Biological_Process_2018\n",
      "2021-02-03 19:02:49,339 Error fetching enrichment results: GO_Molecular_Function_2018\n"
     ]
    }
   ],
   "source": [
    "import gseapy as gp\n",
    "import matplotlib.pyplot as plt\n",
    "\n",
    "genes = [x[1] for x in mutations_seen_BEFORE]\n",
    "enr = gp.enrichr(gene_list = genes,\n",
    "                 gene_sets = ['KEGG_2019_Human','GO_Biological_Process_2018', 'GO_Molecular_Function_2018'],\n",
    "                 organism = 'Human',\n",
    "                 description = 'Group BEFORE',\n",
    "                 outdir = '../analysis/analysis_before_after/BEFORE',\n",
    "                 # no_plot=True,\n",
    "                 cutoff = 1.0)\n",
    "\n",
    "mutations_BEFORE = mutations_filtered.loc[[x[0] for x in mutations_seen_BEFORE], :]\n",
    "mutations_BEFORE.insert(10, 'SAMPLES', [';'.join(x[2]) for x in mutations_seen_BEFORE])\n",
    "mutations_BEFORE.insert(11, 'NUM_SAMPLES', [x[3] for x in mutations_seen_BEFORE])\n",
    "mutations_BEFORE.insert(12, 'NUM_PATIENTS', [x[4] for x in mutations_seen_BEFORE])\n",
    "mutations_BEFORE.to_csv('../analysis/analysis_before_after/BEFORE/mutations_table.txt', sep=\"\\t\", header=True)\n",
    "\n",
    "mutations.loc[[x[0] for x in mutations_seen_BEFORE if x[3] > 1], :].to_csv('analysis_before_after/BEFORE/mutations_table.txt', sep=\"\\t\", header=True)"
   ]
  },
  {
   "cell_type": "code",
   "execution_count": 28,
   "metadata": {},
   "outputs": [
    {
     "name": "stderr",
     "output_type": "stream",
     "text": [
      "2021-02-02 15:31:20,837 Error fetching enrichment results: KEGG_2019_Human\n",
      "2021-02-02 15:31:24,354 Error fetching enrichment results: GO_Biological_Process_2018\n",
      "2021-02-02 15:31:28,342 Error fetching enrichment results: GO_Molecular_Function_2018\n"
     ]
    }
   ],
   "source": [
    "genes = [x[1] for x in mutations_seen_AFTER]\n",
    "\n",
    "enr = gp.enrichr(gene_list = genes,\n",
    "                 gene_sets = ['KEGG_2019_Human','GO_Biological_Process_2018', 'GO_Molecular_Function_2018'],\n",
    "                 organism = 'Human',\n",
    "                 description = 'Group AFTER',\n",
    "                 outdir = 'analysis_before_after/AFTER',\n",
    "                 # no_plot=True,\n",
    "                 cutoff = 1.0)\n",
    "\n",
    "mutations_AFTER = mutations_filtered.loc[[x[0] for x in mutations_seen_AFTER], :]\n",
    "mutations_AFTER.insert(10, 'SAMPLES', [';'.join(x[2]) for x in mutations_seen_AFTER])\n",
    "mutations_AFTER.insert(11, 'NUM_SAMPLES', [x[3] for x in mutations_seen_AFTER])\n",
    "mutations_AFTER.insert(12, 'NUM_PATIENTS', [x[4] for x in mutations_seen_AFTER])\n",
    "mutations_AFTER.to_csv('../analysis/analysis_before_after/AFTER/mutations_table.txt', sep=\"\\t\", header=True)\n",
    "\n",
    "mutations.loc[[x[0] for x in mutations_seen_BEFORE if x[3] > 1], :].to_csv('analysis_before_after/AFTER/mutations_table.txt', sep=\"\\t\", header=True)\n"
   ]
  },
  {
   "cell_type": "code",
   "execution_count": null,
   "metadata": {},
   "outputs": [],
   "source": []
  }
 ],
 "metadata": {
  "kernelspec": {
   "display_name": "Python 3",
   "language": "python",
   "name": "python3"
  },
  "language_info": {
   "codemirror_mode": {
    "name": "ipython",
    "version": 3
   },
   "file_extension": ".py",
   "mimetype": "text/x-python",
   "name": "python",
   "nbconvert_exporter": "python",
   "pygments_lexer": "ipython3",
   "version": "3.8.5"
  }
 },
 "nbformat": 4,
 "nbformat_minor": 4
}
