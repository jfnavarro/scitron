{
 "cells": [
  {
   "cell_type": "code",
   "execution_count": 140,
   "metadata": {},
   "outputs": [],
   "source": [
    "import pandas as pd\n",
    "mutations = pd.read_csv('../analysis/merged_variants_anno_vaf_filtered.txt', sep=\"\\t\",\n",
    "                        header=0, index_col=0, low_memory=False)\n",
    "metasamples = pd.read_excel('../Metadata2.xlsx')"
   ]
  },
  {
   "cell_type": "code",
   "execution_count": 141,
   "metadata": {},
   "outputs": [],
   "source": [
    "# Keep only samples that are tumor-normal pair and labeled as included\n",
    "df = metasamples.loc[(metasamples['INCLUDED'] == \"Y\")\n",
    "                     & (metasamples['TUMOR_ONLY'] == \"No\")\n",
    "                     & (metasamples['SAMPLE_TYPE'] != \"gDNA\")\n",
    "                     & (metasamples['VAR2'].notnull()), \n",
    "                     ['PATIENT_ID', 'SAMPLE_ID']]\n",
    "metasamples.index = metasamples['SAMPLE_ID']\n",
    "meta_filtered = metasamples.reindex(df['SAMPLE_ID'].tolist())\n",
    "SAMPLES = [x.strip() for x in df['SAMPLE_ID'] + '-' + df['PATIENT_ID']]\n",
    "meta_filtered.index = SAMPLES\n",
    "mutations_filtered = mutations.loc[:, mutations.columns[0:10].to_list() + SAMPLES]"
   ]
  },
  {
   "cell_type": "code",
   "execution_count": 142,
   "metadata": {},
   "outputs": [
    {
     "name": "stdout",
     "output_type": "stream",
     "text": [
      "Total patients 25\n",
      "Total samples 74\n",
      "Total patients (E) 19\n",
      "Total samples (E) 46\n",
      "Total patients (F) 12\n",
      "Total samples (F) 28\n"
     ]
    }
   ],
   "source": [
    "print('Total patients {}'.format(len(set(meta_filtered['PATIENT_ID']))))\n",
    "print('Total samples {}'.format(len(set(meta_filtered['SAMPLE_ID']))))\n",
    "\n",
    "print('Total patients (E) {}'.format(len(set(meta_filtered[meta_filtered['VAR2'] == 'E']['PATIENT_ID']))))\n",
    "print('Total samples (E) {}'.format(len(set(meta_filtered[meta_filtered['VAR2'] == 'E']['SAMPLE_ID']))))\n",
    "\n",
    "print('Total patients (F) {}'.format(len(set(meta_filtered[meta_filtered['VAR2'] == 'F']['PATIENT_ID']))))\n",
    "print('Total samples (F) {}'.format(len(set(meta_filtered[meta_filtered['VAR2'] == 'F']['SAMPLE_ID']))))"
   ]
  },
  {
   "cell_type": "code",
   "execution_count": 143,
   "metadata": {},
   "outputs": [],
   "source": [
    "from collections import defaultdict\n",
    "\n",
    "VAF_FILTER = 5.0\n",
    "NUM_PATIENTS_FILTER = 1\n",
    "\n",
    "mutations_seen_only_E = list()\n",
    "mutations_seen_only_F = list()\n",
    "mutations_seen_E = defaultdict(list)\n",
    "mutations_seen_F = defaultdict(list)\n",
    "\n",
    "SAMPLES_E = meta_filtered[meta_filtered['VAR2'] == 'E'].index.to_list()\n",
    "SAMPLES_F = meta_filtered[meta_filtered['VAR2'] == 'F'].index.to_list()\n",
    "\n",
    "for index, row in mutations_filtered.iterrows():\n",
    "    samples_E = list()\n",
    "    samples_F = list()\n",
    "    gene = row['GENE']\n",
    "    acc_vaf_E = 0\n",
    "    acc_vaf_F = 0\n",
    "    \n",
    "    for column, value in row[10:].items():\n",
    "        if float(value) >= VAF_FILTER:\n",
    "            if column in SAMPLES_E:\n",
    "                acc_vaf_E += float(value)\n",
    "                samples_E.append(column)\n",
    "            if column in SAMPLES_F:\n",
    "                acc_vaf_F += float(value)\n",
    "                samples_F.append(column)\n",
    "                \n",
    "    if len(samples_E) > 0:\n",
    "        patients = set([x.split('-')[-1] for x in samples_E])\n",
    "        for g in gene.split('-'):\n",
    "            mutations_seen_E[g].append((index, acc_vaf_E, samples_E, patients))\n",
    "        \n",
    "    if len(samples_F) > 0:\n",
    "        patients = set([x.split('-')[-1] for x in samples_F])\n",
    "        for g in gene.split('-'):\n",
    "            mutations_seen_F[g].append((index, acc_vaf_F, samples_F, patients))\n",
    "        \n",
    "    if len(samples_E) > 0 and len(samples_F) == 0:\n",
    "        patients = set([x.split('-')[-1] for x in samples_E])\n",
    "        if len(patients) >= NUM_PATIENTS_FILTER:\n",
    "            mutations_seen_only_E.append((index, gene, samples_E, len(samples_E), len(patients)))\n",
    "            \n",
    "    if len(samples_E) == 0 and len(samples_F) > 0:\n",
    "        patients = set([x.split('-')[-1] for x in samples_F])\n",
    "        if len(patients) >= NUM_PATIENTS_FILTER:\n",
    "            mutations_seen_only_F.append((index, gene, samples_F, len(samples_F), len(patients)))"
   ]
  },
  {
   "cell_type": "code",
   "execution_count": 144,
   "metadata": {},
   "outputs": [],
   "source": [
    "import numpy as np\n",
    "\n",
    "with open('../analysis/analysis_responders/E/genes_table.txt', 'w') as f:\n",
    "    f.write('GENE\\tCUM_VAF\\tNUM_MUTATIONS\\tMUTATIONS\\tNUM_SAMPLES\\tSAMPLES\\tNUM_PATIENTS\\tPATIENTS\\n')\n",
    "    for gene, records in mutations_seen_E.items():\n",
    "        acc_vaf = 0\n",
    "        patients = set()\n",
    "        samples = set()\n",
    "        mutations = set()\n",
    "        for mut in records:\n",
    "            acc_vaf += mut[1]\n",
    "            mutations.add(mut[0])\n",
    "            samples.update(mut[2])\n",
    "            patients.update(mut[3])\n",
    "        f.write('\\t'.join([gene,\n",
    "                           str(np.round(acc_vaf, 2)),\n",
    "                           str(len(mutations)), \n",
    "                           ';'.join(mutations), \n",
    "                           str(len(samples)), \n",
    "                           ';'.join(samples),\n",
    "                           str(len(patients)),\n",
    "                           ';'.join(patients)]) + '\\n')"
   ]
  },
  {
   "cell_type": "code",
   "execution_count": 145,
   "metadata": {},
   "outputs": [],
   "source": [
    "with open('../analysis/analysis_responders/F/genes_table.txt', 'w') as f:\n",
    "    f.write('GENE\\tCUM_VAF\\tNUM_MUTATIONS\\tMUTATIONS\\tNUM_SAMPLES\\tSAMPLES\\tNUM_PATIENTS\\tPATIENTS\\n')\n",
    "    for gene, records in mutations_seen_F.items():\n",
    "        acc_vaf = 0\n",
    "        patients = set()\n",
    "        samples = set()\n",
    "        mutations = set()\n",
    "        for mut in records:\n",
    "            acc_vaf += mut[1]\n",
    "            mutations.add(mut[0])\n",
    "            samples.update(mut[2])\n",
    "            patients.update(mut[3])\n",
    "        f.write('\\t'.join([gene,\n",
    "                           str(np.round(acc_vaf, 2)),\n",
    "                           str(len(mutations)), \n",
    "                           ';'.join(mutations), \n",
    "                           str(len(samples)), \n",
    "                           ';'.join(samples),\n",
    "                           str(len(patients)),\n",
    "                           ';'.join(patients)]) + '\\n')"
   ]
  },
  {
   "cell_type": "code",
   "execution_count": 146,
   "metadata": {},
   "outputs": [],
   "source": [
    "import gseapy as gp\n",
    "import matplotlib.pyplot as plt\n",
    "\n",
    "#genes_E = [x[1] for x in mutations_seen_E]\n",
    "#enr = gp.enrichr(gene_list = genes_E,\n",
    "#                 gene_sets = ['KEGG_2019_Human','GO_Biological_Process_2018', 'GO_Molecular_Function_2018'],\n",
    "#                 organism = 'Human',\n",
    "#                 description = 'Group E',\n",
    "#                 outdir = '../analysis/analysis_responders/E',\n",
    "#                 # no_plot=True,\n",
    "#                 cutoff = 1.0)\n",
    "\n",
    "mutations_E = mutations_filtered.loc[[x[0] for x in mutations_seen_only_E], :]\n",
    "mutations_E.insert(10, 'SAMPLES', [';'.join(x[2]) for x in mutations_seen_only_E])\n",
    "mutations_E.insert(11, 'NUM_SAMPLES', [x[3] for x in mutations_seen_only_E])\n",
    "mutations_E.insert(12, 'NUM_PATIENTS', [x[4] for x in mutations_seen_only_E])\n",
    "mutations_E.to_csv('../analysis/analysis_responders/E/mutations_table.txt', sep=\"\\t\", header=True)"
   ]
  },
  {
   "cell_type": "code",
   "execution_count": 147,
   "metadata": {},
   "outputs": [],
   "source": [
    "import gseapy as gp\n",
    "import matplotlib.pyplot as plt\n",
    "\n",
    "#genes_F = [x[1] for x in mutations_seen_F]\n",
    "#enr = gp.enrichr(gene_list = genes_F,\n",
    "#                 gene_sets = ['KEGG_2019_Human','GO_Biological_Process_2018', 'GO_Molecular_Function_2018'],\n",
    "#                 organism = 'Human',\n",
    "#                 description = 'Group F',\n",
    "#                 outdir = '../analysis/analysis_responders/F',\n",
    "#                 # no_plot=True,\n",
    "#                 cutoff = 1.0)\n",
    "\n",
    "mutations_F = mutations_filtered.loc[[x[0] for x in mutations_seen_only_F], :]\n",
    "mutations_F.insert(10, 'SAMPLES', [';'.join(x[2]) for x in mutations_seen_only_F])\n",
    "mutations_F.insert(11, 'NUM_SAMPLES', [x[3] for x in mutations_seen_only_F])\n",
    "mutations_F.insert(12, 'NUM_PATIENTS', [x[4] for x in mutations_seen_only_F])\n",
    "mutations_F.to_csv('../analysis/analysis_responders/F/mutations_table.txt', sep=\"\\t\", header=True)"
   ]
  },
  {
   "cell_type": "code",
   "execution_count": null,
   "metadata": {},
   "outputs": [],
   "source": []
  }
 ],
 "metadata": {
  "kernelspec": {
   "display_name": "Python 3",
   "language": "python",
   "name": "python3"
  },
  "language_info": {
   "codemirror_mode": {
    "name": "ipython",
    "version": 3
   },
   "file_extension": ".py",
   "mimetype": "text/x-python",
   "name": "python",
   "nbconvert_exporter": "python",
   "pygments_lexer": "ipython3",
   "version": "3.8.5"
  }
 },
 "nbformat": 4,
 "nbformat_minor": 4
}
