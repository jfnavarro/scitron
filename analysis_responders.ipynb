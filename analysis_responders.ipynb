{
 "cells": [
  {
   "cell_type": "code",
   "execution_count": 80,
   "metadata": {},
   "outputs": [],
   "source": [
    "import pandas as pd\n",
    "mutations = pd.read_csv('../analysis/merged_variants_anno_vaf_filtered.txt', sep=\"\\t\",\n",
    "                        header=0, index_col=0, low_memory=False)\n",
    "metasamples = pd.read_excel('../Metadata2.xlsx')"
   ]
  },
  {
   "cell_type": "code",
   "execution_count": 81,
   "metadata": {},
   "outputs": [],
   "source": [
    "# Keep only samples that are tumor-normal pair and labeled as included\n",
    "df = metasamples.loc[(metasamples['INCLUDED'] == \"Y\")\n",
    "                     & (metasamples['TUMOR_ONLY'] == \"No\")\n",
    "                     & (metasamples['SAMPLE_TYPE'] != \"gDNA\"), \n",
    "                     ['PATIENT_ID', 'SAMPLE_ID']]\n",
    "metasamples.index = metasamples['SAMPLE_ID']\n",
    "meta_filtered = metasamples.reindex(df['SAMPLE_ID'].tolist())\n",
    "SAMPLES = [x.strip() for x in df['SAMPLE_ID'] + '-' + df['PATIENT_ID']]\n",
    "meta_filtered.index = SAMPLES\n",
    "mutations_filtered = mutations.loc[:, mutations.columns[0:10].to_list() + SAMPLES]"
   ]
  },
  {
   "cell_type": "code",
   "execution_count": 82,
   "metadata": {},
   "outputs": [
    {
     "name": "stdout",
     "output_type": "stream",
     "text": [
      "{'VHIO_14', 'VHIO_29', 'VHIO_27', 'VHIO_35', 'VHIO_06', 'VHIO_34', 'VHIO_38', 'VHIO_17', 'VHIO_39', 'VHIO_16', 'VHIO_09', 'VHIO_28', 'VHIO_30', 'VHIO_15', 'VHIO_33', 'VHIO_01', 'VHIO_37', 'VHIO_13', 'VHIO_21', 'VHIO_10', 'VHIO_08', 'VHIO_11', 'VHIO_32', 'VHIO_40', 'VHIO_07'}\n",
      "25\n",
      "74\n",
      "19\n",
      "46\n",
      "12\n",
      "28\n"
     ]
    }
   ],
   "source": [
    "print(set(meta_filtered['PATIENT_ID']))\n",
    "\n",
    "print(len(set(meta_filtered['PATIENT_ID'])))\n",
    "print(len(set(meta_filtered['SAMPLE_ID'])))\n",
    "\n",
    "print(len(set(meta_filtered[meta_filtered['VAR2'] == 'E']['PATIENT_ID'])))\n",
    "print(len(set(meta_filtered[meta_filtered['VAR2'] == 'E']['SAMPLE_ID'])))\n",
    "\n",
    "print(len(set(meta_filtered[meta_filtered['VAR2'] == 'F']['PATIENT_ID'])))\n",
    "print(len(set(meta_filtered[meta_filtered['VAR2'] == 'F']['SAMPLE_ID'])))"
   ]
  },
  {
   "cell_type": "code",
   "execution_count": 85,
   "metadata": {},
   "outputs": [],
   "source": [
    "VAF_FILTER = 5.0\n",
    "NUM_PATIENTS_FILTER = 1\n",
    "\n",
    "mutations_seen_E = list()\n",
    "mutations_seen_F = list()\n",
    "\n",
    "SAMPLES_E = meta_filtered[meta_filtered['VAR2'] == 'E'].index.to_list()\n",
    "SAMPLES_F = meta_filtered[meta_filtered['VAR2'] == 'F'].index.to_list()\n",
    "\n",
    "for index, row in mutations_filtered.iterrows():\n",
    "    samples_E = list()\n",
    "    samples_F = list()\n",
    "    gene = row['GENE']\n",
    "    for column, value in row[10:].items():\n",
    "        if float(value) > VAF_FILTER:\n",
    "            if column in SAMPLES_E:\n",
    "                samples_E.append(column)\n",
    "            if column in SAMPLES_F:\n",
    "                samples_F.append(column)\n",
    "    if len(samples_E) > 0 and len(samples_F) == 0:\n",
    "        patients = set([x.split('-')[-1] for x in samples_E])\n",
    "        if len(patients) > NUM_PATIENTS_FILTER:\n",
    "            mutations_seen_E.append((index, gene, samples_E, len(samples_E), len(patients)))\n",
    "    if len(samples_E) == 0 and len(samples_F) > 0:\n",
    "        patients = set([x.split('-')[-1] for x in samples_F])\n",
    "        if len(patients) > NUM_PATIENTS_FILTER:\n",
    "            mutations_seen_F.append((index, gene, samples_F, len(samples_F), len(patients)))"
   ]
  },
  {
   "cell_type": "code",
   "execution_count": 95,
   "metadata": {},
   "outputs": [
    {
     "name": "stderr",
     "output_type": "stream",
     "text": [
      "2021-02-03 19:03:04,248 Error fetching enrichment results: KEGG_2019_Human\n",
      "2021-02-03 19:03:07,043 Error fetching enrichment results: GO_Biological_Process_2018\n",
      "2021-02-03 19:03:09,940 Error fetching enrichment results: GO_Molecular_Function_2018\n"
     ]
    }
   ],
   "source": [
    "import gseapy as gp\n",
    "import matplotlib.pyplot as plt\n",
    "\n",
    "genes_E = [x[1] for x in mutations_seen_E]\n",
    "enr = gp.enrichr(gene_list = genes_E,\n",
    "                 gene_sets = ['KEGG_2019_Human','GO_Biological_Process_2018', 'GO_Molecular_Function_2018'],\n",
    "                 organism = 'Human',\n",
    "                 description = 'Group E',\n",
    "                 outdir = '../analysis/analysis_responders/E',\n",
    "                 # no_plot=True,\n",
    "                 cutoff = 1.0)\n",
    "\n",
    "mutations_E = mutations_filtered.loc[[x[0] for x in mutations_seen_E], :]\n",
    "mutations_E.insert(10, 'SAMPLES', [';'.join(x[2]) for x in mutations_seen_E])\n",
    "mutations_E.insert(11, 'NUM_SAMPLES', [x[3] for x in mutations_seen_E])\n",
    "mutations_E.insert(12, 'NUM_PATIENTS', [x[4] for x in mutations_seen_E])\n",
    "mutations_E.to_csv('../analysis/analysis_responders/E/mutations_table.txt', sep=\"\\t\", header=True)"
   ]
  },
  {
   "cell_type": "code",
   "execution_count": 96,
   "metadata": {},
   "outputs": [
    {
     "name": "stderr",
     "output_type": "stream",
     "text": [
      "2021-02-03 19:03:15,597 Error fetching enrichment results: KEGG_2019_Human\n",
      "2021-02-03 19:03:18,262 Error fetching enrichment results: GO_Biological_Process_2018\n",
      "2021-02-03 19:03:21,031 Error fetching enrichment results: GO_Molecular_Function_2018\n"
     ]
    }
   ],
   "source": [
    "import gseapy as gp\n",
    "import matplotlib.pyplot as plt\n",
    "\n",
    "genes_F = [x[1] for x in mutations_seen_F]\n",
    "enr = gp.enrichr(gene_list = genes_F,\n",
    "                 gene_sets = ['KEGG_2019_Human','GO_Biological_Process_2018', 'GO_Molecular_Function_2018'],\n",
    "                 organism = 'Human',\n",
    "                 description = 'Group F',\n",
    "                 outdir = '../analysis/analysis_responders/F',\n",
    "                 # no_plot=True,\n",
    "                 cutoff = 1.0)\n",
    "\n",
    "mutations_F = mutations_filtered.loc[[x[0] for x in mutations_seen_F], :]\n",
    "mutations_F.insert(10, 'SAMPLES', [';'.join(x[2]) for x in mutations_seen_F])\n",
    "mutations_F.insert(11, 'NUM_SAMPLES', [x[3] for x in mutations_seen_F])\n",
    "mutations_F.insert(12, 'NUM_PATIENTS', [x[4] for x in mutations_seen_F])\n",
    "mutations_F.to_csv('../analysis/analysis_responders/F/mutations_table.txt', sep=\"\\t\", header=True)"
   ]
  },
  {
   "cell_type": "code",
   "execution_count": null,
   "metadata": {},
   "outputs": [],
   "source": []
  }
 ],
 "metadata": {
  "kernelspec": {
   "display_name": "Python 3",
   "language": "python",
   "name": "python3"
  },
  "language_info": {
   "codemirror_mode": {
    "name": "ipython",
    "version": 3
   },
   "file_extension": ".py",
   "mimetype": "text/x-python",
   "name": "python",
   "nbconvert_exporter": "python",
   "pygments_lexer": "ipython3",
   "version": "3.8.5"
  }
 },
 "nbformat": 4,
 "nbformat_minor": 4
}
