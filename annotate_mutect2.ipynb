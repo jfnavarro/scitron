{
 "cells": [
  {
   "cell_type": "code",
   "execution_count": 1,
   "metadata": {},
   "outputs": [],
   "source": [
    "import os \n",
    "import pandas as pd\n",
    "import subprocess\n",
    "\n",
    "samples = pd.read_csv('../sarek/samples_all.tsv', sep=\"\\t\", header=None, index_col=None)\n",
    "samples.columns = ['PATIENT_ID', 'GENDER', 'TUMOR', 'SAMPLE_ID', 'LANE', 'FASTA1', 'FASTA2']\n",
    "samples = samples[(samples['LANE'] == 1) & samples['TUMOR'] == 1]"
   ]
  },
  {
   "cell_type": "code",
   "execution_count": 2,
   "metadata": {},
   "outputs": [],
   "source": [
    "def exec_command(cmd, detach=False):\n",
    "    p = subprocess.Popen(cmd, shell=True, stdout=subprocess.PIPE, stderr=subprocess.STDOUT)\n",
    "    output, error = p.communicate()\n",
    "    if p.returncode != 0:\n",
    "        for line in output.decode(\"utf-8\").split(\"\\n\") if output else \"\":\n",
    "            print(line.rstrip())\n",
    "        for line in error.decode(\"utf-8\").split(\"\\n\") if error else \"\":\n",
    "            print(line.rstrip())\n",
    "        return False\n",
    "    return True"
   ]
  },
  {
   "cell_type": "code",
   "execution_count": 5,
   "metadata": {},
   "outputs": [
    {
     "name": "stdout",
     "output_type": "stream",
     "text": [
      "Missing Mutect2 files for C20-0924\n",
      "Missing Mutect2 files for B20-1091\n",
      "Missing Mutect2 files for B20-1086\n",
      "Missing Mutect2 files for B20-1084\n",
      "Missing Mutect2 files for C20-0927\n",
      "Missing Mutect2 files for C20-0923\n",
      "Missing Mutect2 files for 4078\n",
      "Missing Mutect2 files for B20-1088\n",
      "Missing Mutect2 files for C20-1461\n",
      "Missing Mutect2 files for 1197\n",
      "Missing Mutect2 files for B20-1090\n",
      "Missing Mutect2 files for B20-1097\n",
      "Missing Mutect2 files for C20-0881\n",
      "Missing Mutect2 files for B20-0499\n",
      "Missing Mutect2 files for C20-930\n",
      "Missing Mutect2 files for B20-1098\n"
     ]
    }
   ],
   "source": [
    "REF = '../Homo_sapiens_assembly38.fasta'\n",
    "for index, row in samples.iterrows():\n",
    "    sample_id = row['SAMPLE_ID']\n",
    "    mutect_vcf = 'VariantCalling/{0}/Mutect2/Mutect2_unfiltered_{0}.vcf.gz'.format(sample_id)\n",
    "    mutect_tbi = 'VariantCalling/{0}/Mutect2/Mutect2_unfiltered_{0}.vcf.gz.tbi'.format(sample_id)\n",
    "    mutect_stats = 'VariantCalling/{0}/Mutect2/{0}.vcf.gz.stats'.format(sample_id)\n",
    "    mutect_cont = 'VariantCalling/{0}/Mutect2/{0}_contamination.table'.format(sample_id)\n",
    "    if os.path.isfile(mutect_vcf) and os.path.isfile(mutect_tbi) \\\n",
    "    and os.path.isfile(mutect_stats) and os.path.isfile(mutect_cont):\n",
    "        output = 'VariantCalling/{0}/Mutect2/Mutect2_filtered2_{0}.vcf.gz'.format(sample_id)\n",
    "        cmd = 'gatk --java-options -Xmx4g FilterMutectCalls -V {} --max-events-in-region 10 ' \\\n",
    "        '--contamination-table {} --stats {} -R {} -O {}'.format(mutect_vcf, mutect_cont, mutect_stats, REF, output)\n",
    "        success = exec_command(cmd)\n",
    "        if not success:\n",
    "            print('Error running FilterMutedCalls')\n",
    "            break\n",
    "    else:\n",
    "        print('Missing Mutect2 files for {}'.format(sample_id))"
   ]
  },
  {
   "cell_type": "code",
   "execution_count": 6,
   "metadata": {},
   "outputs": [
    {
     "name": "stdout",
     "output_type": "stream",
     "text": [
      "Missing Mutect2 filtered file for C20-0924\n",
      "Missing Mutect2 filtered file for B20-1091\n",
      "Missing Mutect2 filtered file for B20-1086\n",
      "Missing Mutect2 filtered file for B20-1084\n",
      "Missing Mutect2 filtered file for C20-0927\n",
      "Missing Mutect2 filtered file for C20-0923\n",
      "Missing Mutect2 filtered file for 4078\n",
      "Missing Mutect2 filtered file for B20-1088\n",
      "Missing Mutect2 filtered file for C20-1461\n",
      "Missing Mutect2 filtered file for 1197\n",
      "Missing Mutect2 filtered file for B20-1090\n",
      "Missing Mutect2 filtered file for B20-1097\n",
      "Missing Mutect2 filtered file for C20-0881\n",
      "Missing Mutect2 filtered file for B20-0499\n",
      "Missing Mutect2 filtered file for C20-930\n",
      "Missing Mutect2 filtered file for B20-1098\n"
     ]
    }
   ],
   "source": [
    "REF = '../Homo_sapiens_assembly38.fasta'\n",
    "for index, row in samples.iterrows():\n",
    "    sample_id = row['SAMPLE_ID']\n",
    "    mutect_filtered_vcf = 'VariantCalling/{0}/Mutect2/Mutect2_filtered2_{0}.vcf.gz'.format(sample_id)\n",
    "    if os.path.isfile(mutect_filtered_vcf):\n",
    "        output = 'Annotation/{0}/snpEff/Mutect2_filtered2_{0}_snpEff.ann.vcf'.format(sample_id)\n",
    "        os.makedirs('Annotation/{0}/snpEff'.format(sample_id), exist_ok=True)\n",
    "        cmd = 'snpEff -Xmx4g GRCh38.86 -nodownload -canon -v {} > {}'.format(mutect_filtered_vcf, output)\n",
    "        success = exec_command(cmd)\n",
    "        if not success:\n",
    "            print('Error running snpEff')\n",
    "            break\n",
    "    else:\n",
    "        print('Missing Mutect2 filtered file for {}'.format(sample_id))"
   ]
  },
  {
   "cell_type": "code",
   "execution_count": null,
   "metadata": {},
   "outputs": [],
   "source": []
  }
 ],
 "metadata": {
  "kernelspec": {
   "display_name": "Python 3",
   "language": "python",
   "name": "python3"
  },
  "language_info": {
   "codemirror_mode": {
    "name": "ipython",
    "version": 3
   },
   "file_extension": ".py",
   "mimetype": "text/x-python",
   "name": "python",
   "nbconvert_exporter": "python",
   "pygments_lexer": "ipython3",
   "version": "3.8.5"
  }
 },
 "nbformat": 4,
 "nbformat_minor": 4
}
