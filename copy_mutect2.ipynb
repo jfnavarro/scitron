{
 "cells": [
  {
   "cell_type": "code",
   "execution_count": 1,
   "metadata": {},
   "outputs": [],
   "source": [
    "import os \n",
    "import pandas as pd\n",
    "import subprocess\n",
    "\n",
    "samples = pd.read_csv('../sarek/samples_all.tsv', sep=\"\\t\", header=None, index_col=None)\n",
    "samples.columns = ['PATIENT_ID', 'GENDER', 'TUMOR', 'SAMPLE_ID', 'LANE', 'FASTA1', 'FASTA2']\n",
    "samples = samples[(samples['LANE'] == 1) & samples['TUMOR'] == 1]"
   ]
  },
  {
   "cell_type": "code",
   "execution_count": 2,
   "metadata": {},
   "outputs": [],
   "source": [
    "def exec_command(cmd, detach=False):\n",
    "    p = subprocess.Popen(cmd, shell=True, stdout=subprocess.PIPE, stderr=subprocess.STDOUT)\n",
    "    output, error = p.communicate()\n",
    "    if p.returncode != 0:\n",
    "        for line in output.decode(\"utf-8\").split(\"\\n\") if output else \"\":\n",
    "            print(line.rstrip())\n",
    "        for line in error.decode(\"utf-8\").split(\"\\n\") if error else \"\":\n",
    "            print(line.rstrip())\n",
    "        return False\n",
    "    return True"
   ]
  },
  {
   "cell_type": "code",
   "execution_count": 7,
   "metadata": {},
   "outputs": [
    {
     "name": "stdout",
     "output_type": "stream",
     "text": [
      "Missing Mutect2 files for C20-0924\n",
      "Missing Mutect2 files for B20-1091\n",
      "Missing Mutect2 files for B20-1086\n",
      "Missing Mutect2 files for B20-1084\n",
      "Missing Mutect2 files for C20-0927\n",
      "Missing Mutect2 files for C20-0923\n",
      "Missing Mutect2 files for 4078\n",
      "Missing Mutect2 files for B20-1088\n",
      "Missing Mutect2 files for C20-1461\n",
      "Missing Mutect2 files for 1197\n",
      "Missing Mutect2 files for B20-1090\n",
      "Missing Mutect2 files for B20-1097\n",
      "Missing Mutect2 files for C20-0881\n",
      "Missing Mutect2 files for B20-0499\n",
      "Missing Mutect2 files for C20-930\n",
      "Missing Mutect2 files for B20-1098\n"
     ]
    }
   ],
   "source": [
    "for index, row in samples.iterrows():\n",
    "    sample_id = row['SAMPLE_ID']\n",
    "    mutect_vcf = 'VariantCalling/{0}/Mutect2/Mutect2_filtered_{0}.vcf.gz'.format(sample_id)\n",
    "    mutect_vcf2 = 'VariantCalling/{0}/Mutect2/Mutect2_filtered2_{0}.vcf.gz'.format(sample_id)\n",
    "    mutect_vcf_ann = 'Annotation/{0}/snpEff/Mutect2_filtered_{0}_snpEff.ann.vcf.gz'.format(sample_id)\n",
    "    mutect_vcf_ann2 = 'Annotation/{0}/snpEff/Mutect2_filtered2_{0}_snpEff.ann.vcf'.format(sample_id)\n",
    "    if os.path.isfile(mutect_vcf) and os.path.isfile(mutect_vcf2) \\\n",
    "    and os.path.isfile(mutect_vcf_ann) and os.path.isfile(mutect_vcf_ann2):\n",
    "        cmd = 'cp -R VariantCalling/{0}/Mutect2 ../Results/VariantCalling/{0}/Mutect2'.format(sample_id)\n",
    "        success = exec_command(cmd)\n",
    "        if not success:\n",
    "            print('Error copying mutect2 variants')\n",
    "            break\n",
    "            \n",
    "        cmd = 'cp {0} ../Results/Annotation/{1}/snpEff/'.format(mutect_vcf_ann, sample_id)\n",
    "        success = exec_command(cmd)\n",
    "        if not success:\n",
    "            print('Error copying mutect2 annotated variants')\n",
    "            break\n",
    "        cmd = 'cp {0}.tbi ../Results/Annotation/{1}/snpEff/'.format(mutect_vcf_ann, sample_id)\n",
    "        success = exec_command(cmd)\n",
    "        if not success:\n",
    "            print('Error copying mutect2 annotated variants')\n",
    "            break\n",
    "            \n",
    "        cmd = 'cp {0} ../Results/Annotation/{1}/snpEff/'.format(mutect_vcf_ann2, sample_id)\n",
    "        success = exec_command(cmd)\n",
    "        if not success:\n",
    "            print('Error copying mutect2 annotated variants 2')\n",
    "            break\n",
    "        cmd = 'bgzip --force ../Results/Annotation/{0}/snpEff/{1}'.format(sample_id, os.path.basename(mutect_vcf_ann2))\n",
    "        success = exec_command(cmd)\n",
    "        if not success:\n",
    "            print('Error gzipping annotated variants 2')\n",
    "            break\n",
    "        cmd = 'tabix ../Results/Annotation/{0}/snpEff/{1}.gz'.format(sample_id, os.path.basename(mutect_vcf_ann2))\n",
    "        success = exec_command(cmd)\n",
    "        if not success:\n",
    "            print('Error running tabix on annotated variants 2')\n",
    "            break\n",
    "    else:\n",
    "        print('Missing Mutect2 files for {}'.format(sample_id))"
   ]
  },
  {
   "cell_type": "code",
   "execution_count": null,
   "metadata": {},
   "outputs": [],
   "source": []
  }
 ],
 "metadata": {
  "kernelspec": {
   "display_name": "Python 3",
   "language": "python",
   "name": "python3"
  },
  "language_info": {
   "codemirror_mode": {
    "name": "ipython",
    "version": 3
   },
   "file_extension": ".py",
   "mimetype": "text/x-python",
   "name": "python",
   "nbconvert_exporter": "python",
   "pygments_lexer": "ipython3",
   "version": "3.8.5"
  }
 },
 "nbformat": 4,
 "nbformat_minor": 4
}
