{
 "cells": [
  {
   "cell_type": "code",
   "execution_count": 1,
   "metadata": {},
   "outputs": [],
   "source": [
    "import os \n",
    "import pandas as pd\n",
    "import subprocess\n",
    "\n",
    "samples = pd.read_csv('../sarek/samples_all.tsv', sep=\"\\t\", header=None, index_col=None)\n",
    "samples.columns = ['PATIENT_ID', 'GENDER', 'TUMOR', 'SAMPLE_ID', 'LANE', 'FASTA1', 'FASTA2']\n",
    "samples = samples[(samples['LANE'] == 1) & samples['TUMOR'] == 1]"
   ]
  },
  {
   "cell_type": "code",
   "execution_count": 2,
   "metadata": {},
   "outputs": [],
   "source": [
    "def exec_command(cmd, detach=False):\n",
    "    p = subprocess.Popen(cmd, shell=True, stdout=subprocess.PIPE, stderr=subprocess.STDOUT)\n",
    "    output, error = p.communicate()\n",
    "    if p.returncode != 0:\n",
    "        for line in output.decode(\"utf-8\").split(\"\\n\") if output else \"\":\n",
    "            print(line.rstrip())\n",
    "        for line in error.decode(\"utf-8\").split(\"\\n\") if error else \"\":\n",
    "            print(line.rstrip())\n",
    "        return False\n",
    "    return True"
   ]
  },
  {
   "cell_type": "code",
   "execution_count": 3,
   "metadata": {},
   "outputs": [
    {
     "name": "stdout",
     "output_type": "stream",
     "text": [
      "Missing report files for C20-0924\n",
      "Missing report files for B20-1091\n",
      "Missing report files for B20-1086\n",
      "Missing report files for B20-1084\n",
      "Missing report files for C20-0927\n",
      "Missing report files for C20-0923\n",
      "Missing report files for 4078\n",
      "Missing report files for B20-1088\n",
      "Missing report files for C20-1461\n",
      "Missing report files for 1197\n",
      "Missing report files for B20-1090\n",
      "Missing report files for B20-1097\n",
      "Missing report files for C20-0881\n",
      "Missing report files for B20-0499\n",
      "Missing report files for C20-930\n",
      "Missing report files for B20-1098\n"
     ]
    }
   ],
   "source": [
    "for index, row in samples.iterrows():\n",
    "    sample_id = row['SAMPLE_ID']\n",
    "    dir1 = 'Reports/{0}/BCFToolsStats'.format(sample_id)\n",
    "    dir2 = 'Reports/{0}/VCFTools'.format(sample_id)\n",
    "    dir3 = 'Reports/{0}/snpEff'.format(sample_id)\n",
    "    if os.path.isdir(dir1) and os.path.isdir(dir2) and os.path.isdir(dir3):\n",
    "        cmd = 'cp -R Reports/{0}/BCFToolsStats/* ../Results/Reports/{0}/BCFToolsStats/'.format(sample_id)\n",
    "        success = exec_command(cmd)\n",
    "        if not success:\n",
    "            print('Error copying BCFToolsStats')\n",
    "            break\n",
    "            \n",
    "        cmd = 'cp -R Reports/{0}/VCFTools/* ../Results/Reports/{0}/VCFTools/'.format(sample_id)\n",
    "        success = exec_command(cmd)\n",
    "        if not success:\n",
    "            print('Error copying VCFTools')\n",
    "            break\n",
    "            \n",
    "        cmd = 'cp -R Reports/{0}/snpEff/* ../Results/Reports/{0}/snpEff/'.format(sample_id)\n",
    "        success = exec_command(cmd)\n",
    "        if not success:\n",
    "            print('Error copying snpEff')\n",
    "            break\n",
    "    else:\n",
    "        print('Missing report files for {}'.format(sample_id))"
   ]
  },
  {
   "cell_type": "code",
   "execution_count": null,
   "metadata": {},
   "outputs": [],
   "source": []
  }
 ],
 "metadata": {
  "kernelspec": {
   "display_name": "Python 3",
   "language": "python",
   "name": "python3"
  },
  "language_info": {
   "codemirror_mode": {
    "name": "ipython",
    "version": 3
   },
   "file_extension": ".py",
   "mimetype": "text/x-python",
   "name": "python",
   "nbconvert_exporter": "python",
   "pygments_lexer": "ipython3",
   "version": "3.8.5"
  }
 },
 "nbformat": 4,
 "nbformat_minor": 4
}
