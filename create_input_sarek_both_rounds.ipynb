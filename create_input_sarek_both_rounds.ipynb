{
 "cells": [
  {
   "cell_type": "code",
   "execution_count": 1,
   "metadata": {},
   "outputs": [],
   "source": [
    "import pandas as pd\n",
    "import boto3\n",
    "import os\n",
    "\n",
    "# Parse Excel Exomes\n",
    "meta = pd.read_excel(\"Metadata4.xlsx\")"
   ]
  },
  {
   "cell_type": "code",
   "execution_count": 2,
   "metadata": {},
   "outputs": [],
   "source": [
    "# Sarek format\n",
    "sub_meta = meta.loc[:, [\"PATIENT_ID\", \"GENDER\", \"SAMPLE_TYPE\", \"SAMPLE_ID\", \"LANE\", \"FASTA1\", \"FASTA2\"]]\n",
    "\n",
    "# Convert sample type to 0 (normal) and 1 (tumor)\n",
    "sub_meta.loc[sub_meta[\"SAMPLE_TYPE\"] == \"gDNA\", \"SAMPLE_TYPE\"] = 0\n",
    "sub_meta.loc[sub_meta[\"SAMPLE_TYPE\"] != 0, \"SAMPLE_TYPE\"] = 1\n",
    "\n",
    "# Write metadata\n",
    "sub_meta.to_csv(\"samples3.tsv\", sep=\"\\t\", header=None, index=None)"
   ]
  },
  {
   "cell_type": "code",
   "execution_count": 37,
   "metadata": {},
   "outputs": [],
   "source": []
  }
 ],
 "metadata": {
  "kernelspec": {
   "display_name": "Python 3",
   "language": "python",
   "name": "python3"
  },
  "language_info": {
   "codemirror_mode": {
    "name": "ipython",
    "version": 3
   },
   "file_extension": ".py",
   "mimetype": "text/x-python",
   "name": "python",
   "nbconvert_exporter": "python",
   "pygments_lexer": "ipython3",
   "version": "3.8.5"
  }
 },
 "nbformat": 4,
 "nbformat_minor": 4
}
