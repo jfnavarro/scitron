{
 "cells": [
  {
   "cell_type": "code",
   "execution_count": 8,
   "metadata": {},
   "outputs": [
    {
     "name": "stdout",
     "output_type": "stream",
     "text": [
      "Loaded 40 samples\n",
      "Searching for variants in ../Results/VariantCalling/\n",
      "cp ../Results/VariantCalling/1123_3_cfDNA_vs_B19_0971__17_22863_A1__0_gDNA/Mutect2/Mutect2_filtered_1123_3_cfDNA_vs_B19_0971__17_22863_A1__0_gDNA.vcf.gz ../Mutect2VCF/1123_3_cfDNA-VHIO_01.vcf.gz\n",
      "cp ../Results/VariantCalling/1261_2_cfDNA_vs_B19_0971__17_22863_A1__0_gDNA/Mutect2/Mutect2_filtered_1261_2_cfDNA_vs_B19_0971__17_22863_A1__0_gDNA.vcf.gz ../Mutect2VCF/1261_2_cfDNA-VHIO_01.vcf.gz\n",
      "cp ../Results/VariantCalling/B19_0970__VH_17_B_022863_A5__1_tumor_vs_B19_0971__17_22863_A1__0_gDNA/Mutect2/Mutect2_filtered_B19_0970__VH_17_B_022863_A5__1_tumor_vs_B19_0971__17_22863_A1__0_gDNA.vcf.gz ../Mutect2VCF/B19_0970__VH_17_B_022863_A5__1_tumor-VHIO_01.vcf.gz\n",
      "cp ../Results/VariantCalling/3031_11_cfDNA_vs_L19_5550_gDNA/Mutect2/Mutect2_filtered_3031_11_cfDNA_vs_L19_5550_gDNA.vcf.gz ../Mutect2VCF/3031_11_cfDNA-VHIO_04.vcf.gz\n",
      "cp ../Results/VariantCalling/C20-0924_vs_L19_5550_gDNA/Mutect2/Mutect2_filtered_C20-0924_vs_L19_5550_gDNA.vcf.gz ../Mutect2VCF/C20-0924-VHIO_04.vcf.gz\n",
      "cp ../Results/VariantCalling/CTAX090_PDX_vs_L19_5550_gDNA/Mutect2/Mutect2_filtered_CTAX090_PDX_vs_L19_5550_gDNA.vcf.gz ../Mutect2VCF/CTAX090_PDX-VHIO_04.vcf.gz\n",
      "cp ../Results/VariantCalling/19B0050298_A27__B2010104__41_tumor_vs_3110_40_gDNA/Mutect2/Mutect2_filtered_19B0050298_A27__B2010104__41_tumor_vs_3110_40_gDNA.vcf.gz ../Mutect2VCF/19B0050298_A27__B2010104__41_tumor-VHIO_13.vcf.gz\n",
      "cp ../Results/VariantCalling/18_39888_A4__B2010101__43_tumor_vs_18-39888A8-MPGA/Mutect2/Mutect2_filtered_18_39888_A4__B2010101__43_tumor_vs_18-39888A8-MPGA.vcf.gz ../Mutect2VCF/18_39888_A4__B2010101__43_tumor-VHIO_14.vcf.gz\n",
      "cp ../Results/VariantCalling/2550_44_cfDNA_vs_18-39888A8-MPGA/Mutect2/Mutect2_filtered_2550_44_cfDNA_vs_18-39888A8-MPGA.vcf.gz ../Mutect2VCF/2550_44_cfDNA-VHIO_14.vcf.gz\n",
      "cp ../Results/VariantCalling/C20-0927_vs_18-39888A8-MPGA/Mutect2/Mutect2_filtered_C20-0927_vs_18-39888A8-MPGA.vcf.gz ../Mutect2VCF/C20-0927-VHIO_14.vcf.gz\n",
      "cp ../Results/VariantCalling/4078_vs_2762_45_gDNA/Mutect2/Mutect2_filtered_4078_vs_2762_45_gDNA.vcf.gz ../Mutect2VCF/4078-VHIO_15.vcf.gz\n",
      "cp ../Results/VariantCalling/2762_47_cfDNA_vs_2762_45_gDNA/Mutect2/Mutect2_filtered_2762_47_cfDNA_vs_2762_45_gDNA.vcf.gz ../Mutect2VCF/2762_47_cfDNA-VHIO_15.vcf.gz\n",
      "cp ../Results/VariantCalling/M19_1039__B2010102__46_tumor_vs_2762_45_gDNA/Mutect2/Mutect2_filtered_M19_1039__B2010102__46_tumor_vs_2762_45_gDNA.vcf.gz ../Mutect2VCF/M19_1039__B2010102__46_tumor-VHIO_15.vcf.gz\n",
      "cp ../Results/VariantCalling/18_1801_A8__B2010100__48_tumor_vs_MGM_gDNA/Mutect2/Mutect2_filtered_18_1801_A8__B2010100__48_tumor_vs_MGM_gDNA.vcf.gz ../Mutect2VCF/18_1801_A8__B2010100__48_tumor-VHIO_16.vcf.gz\n",
      "cp ../Results/VariantCalling/M19_593__B2010103__49_tumor_vs_RMM_gDNA/Mutect2/Mutect2_filtered_M19_593__B2010103__49_tumor_vs_RMM_gDNA.vcf.gz ../Mutect2VCF/M19_593__B2010103__49_tumor-VHIO_17.vcf.gz\n",
      "cp ../Results/VariantCalling/VH_18_B_034996_60_tumor_vs_AC_gDNA/Mutect2/Mutect2_filtered_VH_18_B_034996_60_tumor_vs_AC_gDNA.vcf.gz ../Mutect2VCF/VH_18_B_034996_60_tumor-VHIO_27.vcf.gz\n",
      "cp ../Results/VariantCalling/B20-1097_vs_4067EM/Mutect2/Mutect2_filtered_B20-1097_vs_4067EM.vcf.gz ../Mutect2VCF/B20-1097-VHIO_28.vcf.gz\n",
      "cp ../Results/VariantCalling/M19_2477_61_tumor_vs_4067EM/Mutect2/Mutect2_filtered_M19_2477_61_tumor_vs_4067EM.vcf.gz ../Mutect2VCF/M19_2477_61_tumor-VHIO_28.vcf.gz\n",
      "cp ../Results/VariantCalling/20_13032_A1_63_tumor_vs_4066_FRC_131__62_gDNA/Mutect2/Mutect2_filtered_20_13032_A1_63_tumor_vs_4066_FRC_131__62_gDNA.vcf.gz ../Mutect2VCF/20_13032_A1_63_tumor-VHIO_29.vcf.gz\n",
      "cp ../Results/VariantCalling/CTAX099_PDX_vs_4066_FRC_131__62_gDNA/Mutect2/Mutect2_filtered_CTAX099_PDX_vs_4066_FRC_131__62_gDNA.vcf.gz ../Mutect2VCF/CTAX099_PDX-VHIO_29.vcf.gz\n",
      "cp ../Results/VariantCalling/4113_67_cfDNA_vs_4113_65_gDNA/Mutect2/Mutect2_filtered_4113_67_cfDNA_vs_4113_65_gDNA.vcf.gz ../Mutect2VCF/4113_67_cfDNA-VHIO_30.vcf.gz\n",
      "cp ../Results/VariantCalling/B20-0499_vs_4113_65_gDNA/Mutect2/Mutect2_filtered_B20-0499_vs_4113_65_gDNA.vcf.gz ../Mutect2VCF/B20-0499-VHIO_30.vcf.gz\n",
      "cp ../Results/VariantCalling/VH___20___B___001520_66_tumor_vs_4113_65_gDNA/Mutect2/Mutect2_filtered_VH___20___B___001520_66_tumor_vs_4113_65_gDNA.vcf.gz ../Mutect2VCF/VH___20___B___001520_66_tumor-VHIO_30.vcf.gz\n",
      "cp ../Results/VariantCalling/4150_L_vs_JLCR_gDNA/Mutect2/Mutect2_filtered_4150_L_vs_JLCR_gDNA.vcf.gz ../Mutect2VCF/4150_L-VHIO_33.vcf.gz\n",
      "cp ../Results/VariantCalling/B20-1098_vs_JLCR_gDNA/Mutect2/Mutect2_filtered_B20-1098_vs_JLCR_gDNA.vcf.gz ../Mutect2VCF/B20-1098-VHIO_33.vcf.gz\n",
      "cp ../Results/VariantCalling/M20-1981-JVC_vs_JLCR_gDNA/Mutect2/Mutect2_filtered_M20-1981-JVC_vs_JLCR_gDNA.vcf.gz ../Mutect2VCF/M20-1981-JVC-VHIO_33.vcf.gz\n",
      "cp ../Results/VariantCalling/CTAX087_PDX_vs_4169_FNM_132_71_gDNA/Mutect2/Mutect2_filtered_CTAX087_PDX_vs_4169_FNM_132_71_gDNA.vcf.gz ../Mutect2VCF/CTAX087_PDX-VHIO_34.vcf.gz\n",
      "cp ../Results/VariantCalling/CTAX093_PDX_vs_4169_FNM_132_71_gDNA/Mutect2/Mutect2_filtered_CTAX093_PDX_vs_4169_FNM_132_71_gDNA.vcf.gz ../Mutect2VCF/CTAX093_PDX-VHIO_34.vcf.gz\n",
      "cp ../Results/VariantCalling/4179_77_cfDNA_vs_4179_JSN_172_76_gDNA/Mutect2/Mutect2_filtered_4179_77_cfDNA_vs_4179_JSN_172_76_gDNA.vcf.gz ../Mutect2VCF/4179_77_cfDNA-VHIO_35.vcf.gz\n",
      "cp ../Results/VariantCalling/M20-920-JLCR_vs_4213_CV_272__78_gDNA/Mutect2/Mutect2_filtered_M20-920-JLCR_vs_4213_CV_272__78_gDNA.vcf.gz ../Mutect2VCF/M20-920-JLCR-VHIO_37.vcf.gz\n",
      "cp ../Results/VariantCalling/M18_2959_80_tumor_vs_MDL_gDNA/Mutect2/Mutect2_filtered_M18_2959_80_tumor_vs_MDL_gDNA.vcf.gz ../Mutect2VCF/M18_2959_80_tumor-VHIO_38.vcf.gz\n",
      "cp ../Results/VariantCalling/JAM_16_19733_A10_MPP216_L18_4331_82_tumor_vs_JAM_1283_81_gDNA/Mutect2/Mutect2_filtered_JAM_16_19733_A10_MPP216_L18_4331_82_tumor_vs_JAM_1283_81_gDNA.vcf.gz ../Mutect2VCF/JAM_16_19733_A10_MPP216_L18_4331_82_tumor-VHIO_39.vcf.gz\n",
      "cp ../Results/VariantCalling/CTAX033_PDX_vs_L196746_gDNA/Mutect2/Mutect2_filtered_CTAX033_PDX_vs_L196746_gDNA.vcf.gz ../Mutect2VCF/CTAX033_PDX-VHIO_40.vcf.gz\n",
      "cp ../Results/VariantCalling/DAS_16_658947_MPP216_L18_4333_89_tumor_vs_L196746_gDNA/Mutect2/Mutect2_filtered_DAS_16_658947_MPP216_L18_4333_89_tumor_vs_L196746_gDNA.vcf.gz ../Mutect2VCF/DAS_16_658947_MPP216_L18_4333_89_tumor-VHIO_40.vcf.gz\n",
      "cp ../Results/VariantCalling/DAS_529_93_cfDNA_vs_L196746_gDNA/Mutect2/Mutect2_filtered_DAS_529_93_cfDNA_vs_L196746_gDNA.vcf.gz ../Mutect2VCF/DAS_529_93_cfDNA-VHIO_40.vcf.gz\n",
      "cp ../Results/VariantCalling/DAS_795_98_cfDNA_vs_L196746_gDNA/Mutect2/Mutect2_filtered_DAS_795_98_cfDNA_vs_L196746_gDNA.vcf.gz ../Mutect2VCF/DAS_795_98_cfDNA-VHIO_40.vcf.gz\n",
      "cp ../Results/VariantCalling/DAS_861_96_cfDNA_vs_L196746_gDNA/Mutect2/Mutect2_filtered_DAS_861_96_cfDNA_vs_L196746_gDNA.vcf.gz ../Mutect2VCF/DAS_861_96_cfDNA-VHIO_40.vcf.gz\n",
      "cp ../Results/VariantCalling/DAS_901_92_cfDNA_vs_L196746_gDNA/Mutect2/Mutect2_filtered_DAS_901_92_cfDNA_vs_L196746_gDNA.vcf.gz ../Mutect2VCF/DAS_901_92_cfDNA-VHIO_40.vcf.gz\n",
      "cp ../Results/VariantCalling/CTAX023_PDX_vs_L20_0747_gDNA/Mutect2/Mutect2_filtered_CTAX023_PDX_vs_L20_0747_gDNA.vcf.gz ../Mutect2VCF/CTAX023_PDX-VHIO_45.vcf.gz\n",
      "cp ../Results/VariantCalling/CTAX002_PDX_vs_L19_5546_gDNA/Mutect2/Mutect2_filtered_CTAX002_PDX_vs_L19_5546_gDNA.vcf.gz ../Mutect2VCF/CTAX002_PDX-VHIO_47.vcf.gz\n"
     ]
    }
   ],
   "source": [
    "from pathlib import Path\n",
    "import pandas as pd\n",
    "from itertools import chain\n",
    "\n",
    "PATH = '../Results/VariantCalling/'\n",
    "\n",
    "metasamples = pd.read_csv('../sarek/samples_all.tsv', sep=\"\\t\", header=None)\n",
    "metasamples.columns = ['PATIENT_ID', 'GENDER', \"TUMOR\", \"SAMPLE_ID\", \"LANE\", \"FASTQ1\", \"FASTQ2\"]\n",
    "metasamples['SAMPLE_ID'] = metasamples['SAMPLE_ID'].astype(str)\n",
    "metasamples = metasamples.drop_duplicates(subset=['SAMPLE_ID'])\n",
    "metasamples.index = [x.strip() for x in metasamples['SAMPLE_ID'] + '-' + metasamples['PATIENT_ID']]\n",
    "\n",
    "metadata = pd.read_excel('../Metadata.xlsx')\n",
    "metadata['SAMPLE_ID'] = metadata['SAMPLE_ID'].astype(str)\n",
    "metadata.index = [x.strip() for x in metadata['SAMPLE_ID'] + '-' + metadata['PATIENT_ID']]\n",
    "# Keep only samples that are tumor-normal pair and labeled as included\n",
    "meta_filtered = metadata.loc[(metadata['INCLUDED'] == \"Y\")\n",
    "                             & (metadata['TUMOR_ONLY'] == \"No\")\n",
    "                             & (metadata['VAR2'].notnull())\n",
    "                             & (metadata['SAMPLE_TYPE'] != \"gDNA\"), :]\n",
    "\n",
    "metasamples = metasamples.reindex(meta_filtered.index)\n",
    "\n",
    "print('Loaded {} samples'.format(metasamples.shape[0]))\n",
    "print('Searching for variants in {}'.format(PATH))\n",
    "\n",
    "for index, row in metasamples.iterrows():\n",
    "    sample_id = row['SAMPLE_ID']\n",
    "    sample_patient = row['PATIENT_ID']\n",
    "    gdna = metadata[(metadata['PATIENT_ID'] == sample_patient)\n",
    "                    & (metadata['SAMPLE_TYPE'] == 'gDNA')]['SAMPLE_ID'].to_numpy()[0]\n",
    "    for elem in chain(Path(PATH).rglob('*{}_vs_{}.vcf.gz'.format(sample_id, gdna))):\n",
    "        if 'Mutect2_filtered' in str(elem):\n",
    "            out_name = sample_id + '-' + sample_patient + '.vcf.gz'\n",
    "            print('cp {} ../Mutect2VCF/{}'.format(str(elem), out_name))"
   ]
  },
  {
   "cell_type": "code",
   "execution_count": null,
   "metadata": {},
   "outputs": [],
   "source": []
  }
 ],
 "metadata": {
  "kernelspec": {
   "display_name": "Python 3",
   "language": "python",
   "name": "python3"
  },
  "language_info": {
   "codemirror_mode": {
    "name": "ipython",
    "version": 3
   },
   "file_extension": ".py",
   "mimetype": "text/x-python",
   "name": "python",
   "nbconvert_exporter": "python",
   "pygments_lexer": "ipython3",
   "version": "3.8.5"
  }
 },
 "nbformat": 4,
 "nbformat_minor": 4
}
