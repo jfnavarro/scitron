{
 "cells": [
  {
   "cell_type": "code",
   "execution_count": 9,
   "metadata": {},
   "outputs": [
    {
     "name": "stdout",
     "output_type": "stream",
     "text": [
      "Loaded 28 samples\n",
      "Searching for variants in ../Results/VariantCalling/\n",
      "cp ../Results/VariantCalling/1123_3_cfDNA/Mutect2/Mutect2/Mutect2_filtered_1123_3_cfDNA.vcf.gz ../Results/Mutect2VCF/1123_3_cfDNA-VHIO_01.vcf.gz\n",
      "cp ../Results/VariantCalling/1261_2_cfDNA/Mutect2/Mutect2/Mutect2_filtered_1261_2_cfDNA.vcf.gz ../Results/Mutect2VCF/1261_2_cfDNA-VHIO_01.vcf.gz\n",
      "cp ../Results/VariantCalling/B19_0970__VH_17_B_022863_A5__1_tumor/Mutect2/Mutect2/Mutect2_filtered_B19_0970__VH_17_B_022863_A5__1_tumor.vcf.gz ../Results/Mutect2VCF/B19_0970__VH_17_B_022863_A5__1_tumor-VHIO_01.vcf.gz\n",
      "cp ../Results/VariantCalling/1514_5_cfDNA/Mutect2/Mutect2/Mutect2_filtered_1514_5_cfDNA.vcf.gz ../Results/Mutect2VCF/1514_5_cfDNA-VHIO_02.vcf.gz\n",
      "cp ../Results/VariantCalling/916_6_cfDNA/Mutect2/Mutect2/Mutect2_filtered_916_6_cfDNA.vcf.gz ../Results/Mutect2VCF/916_6_cfDNA-VHIO_02.vcf.gz\n",
      "cp ../Results/VariantCalling/B19_0972__16_39495_A1__4_tumor/Mutect2/Mutect2/Mutect2_filtered_B19_0972__16_39495_A1__4_tumor.vcf.gz ../Results/Mutect2VCF/B19_0972__16_39495_A1__4_tumor-VHIO_02.vcf.gz\n",
      "cp ../Results/VariantCalling/3110_42_cfDNA/Mutect2/Mutect2/Mutect2_filtered_3110_42_cfDNA.vcf.gz ../Results/Mutect2VCF/3110_42_cfDNA-VHIO_13.vcf.gz\n",
      "cp ../Results/VariantCalling/19B0050298_A27__B2010104__41_tumor/Mutect2/Mutect2/Mutect2_filtered_19B0050298_A27__B2010104__41_tumor.vcf.gz ../Results/Mutect2VCF/19B0050298_A27__B2010104__41_tumor-VHIO_13.vcf.gz\n",
      "cp ../Results/VariantCalling/2550_44_cfDNA/Mutect2/Mutect2/Mutect2_filtered_2550_44_cfDNA.vcf.gz ../Results/Mutect2VCF/2550_44_cfDNA-VHIO_14.vcf.gz\n",
      "cp ../Results/VariantCalling/18_39888_A4__B2010101__43_tumor/Mutect2/Mutect2/Mutect2_filtered_18_39888_A4__B2010101__43_tumor.vcf.gz ../Results/Mutect2VCF/18_39888_A4__B2010101__43_tumor-VHIO_14.vcf.gz\n",
      "cp ../Results/VariantCalling/2762_47_cfDNA/Mutect2/Mutect2/Mutect2_filtered_2762_47_cfDNA.vcf.gz ../Results/Mutect2VCF/2762_47_cfDNA-VHIO_15.vcf.gz\n",
      "cp ../Results/VariantCalling/M19_1039__B2010102__46_tumor/Mutect2/Mutect2/Mutect2_filtered_M19_1039__B2010102__46_tumor.vcf.gz ../Results/Mutect2VCF/M19_1039__B2010102__46_tumor-VHIO_15.vcf.gz\n",
      "cp ../Results/VariantCalling/M19_593__B2010103__49_tumor/Mutect2/Mutect2/Mutect2_filtered_M19_593__B2010103__49_tumor.vcf.gz ../Results/Mutect2VCF/M19_593__B2010103__49_tumor-VHIO_17.vcf.gz\n",
      "cp ../Results/VariantCalling/VH_18_B_034996_60_tumor/Mutect2/Mutect2/Mutect2_filtered_VH_18_B_034996_60_tumor.vcf.gz ../Results/Mutect2VCF/VH_18_B_034996_60_tumor-VHIO_27.vcf.gz\n",
      "cp ../Results/VariantCalling/M19_2477_61_tumor/Mutect2/Mutect2/Mutect2_filtered_M19_2477_61_tumor.vcf.gz ../Results/Mutect2VCF/M19_2477_61_tumor-VHIO_28.vcf.gz\n",
      "cp ../Results/VariantCalling/CTAX099_PDX/Mutect2/Mutect2/Mutect2_filtered_CTAX099_PDX.vcf.gz ../Results/Mutect2VCF/CTAX099_PDX-VHIO_29.vcf.gz\n",
      "cp ../Results/VariantCalling/20_13032_A1_63_tumor/Mutect2/Mutect2/Mutect2_filtered_20_13032_A1_63_tumor.vcf.gz ../Results/Mutect2VCF/20_13032_A1_63_tumor-VHIO_29.vcf.gz\n",
      "cp ../Results/VariantCalling/4113_67_cfDNA/Mutect2/Mutect2/Mutect2_filtered_4113_67_cfDNA.vcf.gz ../Results/Mutect2VCF/4113_67_cfDNA-VHIO_30.vcf.gz\n",
      "cp ../Results/VariantCalling/VH___20___B___001520_66_tumor/Mutect2/Mutect2/Mutect2_filtered_VH___20___B___001520_66_tumor.vcf.gz ../Results/Mutect2VCF/VH___20___B___001520_66_tumor-VHIO_30.vcf.gz\n",
      "cp ../Results/VariantCalling/4150_L/Mutect2/Mutect2/Mutect2_filtered_4150_L.vcf.gz ../Results/Mutect2VCF/4150_L-VHIO_33.vcf.gz\n",
      "cp ../Results/VariantCalling/4179_77_cfDNA/Mutect2/Mutect2/Mutect2_filtered_4179_77_cfDNA.vcf.gz ../Results/Mutect2VCF/4179_77_cfDNA-VHIO_35.vcf.gz\n",
      "cp ../Results/VariantCalling/4213_79_cfDNA/Mutect2/Mutect2/Mutect2_filtered_4213_79_cfDNA.vcf.gz ../Results/Mutect2VCF/4213_79_cfDNA-VHIO_37.vcf.gz\n",
      "cp ../Results/VariantCalling/DAS_529_93_cfDNA/Mutect2/Mutect2/Mutect2_filtered_DAS_529_93_cfDNA.vcf.gz ../Results/Mutect2VCF/DAS_529_93_cfDNA-VHIO_40.vcf.gz\n",
      "cp ../Results/VariantCalling/DAS_795_98_cfDNA/Mutect2/Mutect2/Mutect2_filtered_DAS_795_98_cfDNA.vcf.gz ../Results/Mutect2VCF/DAS_795_98_cfDNA-VHIO_40.vcf.gz\n",
      "cp ../Results/VariantCalling/CTAX033_PDX/Mutect2/Mutect2/Mutect2_filtered_CTAX033_PDX.vcf.gz ../Results/Mutect2VCF/CTAX033_PDX-VHIO_40.vcf.gz\n",
      "cp ../Results/VariantCalling/DAS_16_658947_MPP216_L18_4333_89_tumor/Mutect2/Mutect2/Mutect2_filtered_DAS_16_658947_MPP216_L18_4333_89_tumor.vcf.gz ../Results/Mutect2VCF/DAS_16_658947_MPP216_L18_4333_89_tumor-VHIO_40.vcf.gz\n",
      "cp ../Results/VariantCalling/CTAX023_PDX/Mutect2/Mutect2/Mutect2_filtered_CTAX023_PDX.vcf.gz ../Results/Mutect2VCF/CTAX023_PDX-VHIO_45.vcf.gz\n",
      "cp ../Results/VariantCalling/CTAX002_PDX/Mutect2/Mutect2/Mutect2_filtered_CTAX002_PDX.vcf.gz ../Results/Mutect2VCF/CTAX002_PDX-VHIO_47.vcf.gz\n"
     ]
    }
   ],
   "source": [
    "from pathlib import Path\n",
    "import pandas as pd\n",
    "from itertools import chain\n",
    "\n",
    "PATH = '../Results/VariantCalling/'\n",
    "\n",
    "metasamples = pd.read_csv('../sarek/samples_all.tsv', sep=\"\\t\", header=None)\n",
    "metasamples.columns = ['PATIENT_ID', 'GENDER', \"TUMOR\", \"SAMPLE_ID\", \"LANE\", \"FASTQ1\", \"FASTQ2\"]\n",
    "metasamples = metasamples.drop_duplicates(subset=['SAMPLE_ID'])\n",
    "metasamples.index = [x.strip() for x in metasamples['SAMPLE_ID'] + '-' + metasamples['PATIENT_ID']]\n",
    "\n",
    "metadata = pd.read_excel('../Metadata.xlsx')\n",
    "# Keep only samples that are tumor-normal pair and labeled as included\n",
    "df = metadata.loc[(metadata['INCLUDED'] == \"Y\")\n",
    "                  & (metadata['TUMOR_ONLY'] == \"No\")\n",
    "                  & (metadata['SAMPLE_TYPE'] != \"gDNA\"),\n",
    "                  ['PATIENT_ID', 'SAMPLE_ID']]\n",
    "metadata.index = metadata['SAMPLE_ID']\n",
    "meta_filtered = metadata.reindex(df['SAMPLE_ID'].tolist())\n",
    "samples = [x.strip() for x in df['SAMPLE_ID'] + '-' + df['PATIENT_ID']]\n",
    "meta_filtered.index = samples\n",
    "\n",
    "metasamples = metasamples.reindex(samples)\n",
    "\n",
    "print('Loaded {} samples'.format(metasamples.shape[0]))\n",
    "print('Searching for variants in {}'.format(PATH))\n",
    "\n",
    "for index, row in metasamples.iterrows():\n",
    "    sample_id = row['SAMPLE_ID']\n",
    "    sample_patient = row['PATIENT_ID']\n",
    "    tumor_only = all(metasamples[metasamples['PATIENT_ID'] == sample_patient]['TUMOR'] == 1)\n",
    "    germline = row['TUMOR'] == 0\n",
    "    # Retrieve variants\n",
    "    if tumor_only:\n",
    "        for elem in Path(PATH).rglob('*{}.vcf.gz'.format(sample_id)):\n",
    "            if 'Mutect2_filtered' in str(elem):\n",
    "                out_name = sample_id + '-' + sample_patient + '.vcf.gz'\n",
    "                print('cp {} ../Results/Mutect2VCF/{}'.format(str(elem), out_name))\n",
    "    elif germline:\n",
    "        pass\n",
    "    else:\n",
    "        gdna = metasamples[(metasamples['PATIENT_ID'] == sample_patient)\n",
    "                           & (metasamples['TUMOR'] == 0)]['SAMPLE_ID'].to_numpy()[0]\n",
    "        for elem in chain(Path(PATH).rglob('*{}_vs_{}.vcf.gz'.format(sample_id, gdna))):\n",
    "            if 'Mutect2_filtered' in str(elem):\n",
    "                out_name = sample_id + '-' + sample_patient + '.vcf.gz'\n",
    "                print('cp {} ../Results/Mutect2VCF/{}'.format(str(elem), out_name))"
   ]
  },
  {
   "cell_type": "code",
   "execution_count": null,
   "metadata": {},
   "outputs": [],
   "source": []
  }
 ],
 "metadata": {
  "kernelspec": {
   "display_name": "Python 3",
   "language": "python",
   "name": "python3"
  },
  "language_info": {
   "codemirror_mode": {
    "name": "ipython",
    "version": 3
   },
   "file_extension": ".py",
   "mimetype": "text/x-python",
   "name": "python",
   "nbconvert_exporter": "python",
   "pygments_lexer": "ipython3",
   "version": "3.8.5"
  }
 },
 "nbformat": 4,
 "nbformat_minor": 4
}
