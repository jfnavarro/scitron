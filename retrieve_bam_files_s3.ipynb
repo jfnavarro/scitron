{
 "cells": [
  {
   "cell_type": "code",
   "execution_count": 1,
   "metadata": {},
   "outputs": [],
   "source": [
    "import pandas as pd\n",
    "\n",
    "metasamples = pd.read_excel('../Metadata.xlsx')\n",
    "metasamples['SAMPLE_ID'] = metasamples['SAMPLE_ID'].astype(str)\n",
    "metasamples.index = [x.strip() for x in metasamples['SAMPLE_ID'] + '-' + metasamples['PATIENT_ID']]"
   ]
  },
  {
   "cell_type": "code",
   "execution_count": 3,
   "metadata": {},
   "outputs": [],
   "source": [
    "import pandas as pd\n",
    "\n",
    "metasamples = pd.read_csv('../sarek/samples_pon.tsv', sep='\\t', header=None)\n",
    "metasamples.columns = ['PATIENT_ID', 'GENDER', \"TUMOR\", \"SAMPLE_ID\", \"LANE\", \"FASTQ1\", \"FASTQ2\"]\n",
    "metasamples = metasamples.drop_duplicates(subset=['SAMPLE_ID'])\n",
    "metasamples['SAMPLE_ID'] = metasamples['SAMPLE_ID'].astype(str)\n",
    "metasamples.index = [x.strip() for x in metasamples['SAMPLE_ID'] + '-' + metasamples['PATIENT_ID']]"
   ]
  },
  {
   "cell_type": "code",
   "execution_count": 4,
   "metadata": {},
   "outputs": [],
   "source": [
    "with open('command_bam.sh', 'w') as handler:\n",
    "    for index, row in metasamples.iterrows():\n",
    "        sample = row['SAMPLE_ID']\n",
    "        #handler.write('aws s3 cp s3://scitron/results/Preprocessing/{0}/Recalibrated/{0}.recal.bam .\\n'.format(sample))\n",
    "        handler.write('aws s3 cp s3://scitron/results_pon/Preprocessing/{0}/Recalibrated/{0}.recal.bam .\\n'.format(sample))"
   ]
  },
  {
   "cell_type": "code",
   "execution_count": null,
   "metadata": {},
   "outputs": [],
   "source": []
  }
 ],
 "metadata": {
  "kernelspec": {
   "display_name": "Python 3",
   "language": "python",
   "name": "python3"
  },
  "language_info": {
   "codemirror_mode": {
    "name": "ipython",
    "version": 3
   },
   "file_extension": ".py",
   "mimetype": "text/x-python",
   "name": "python",
   "nbconvert_exporter": "python",
   "pygments_lexer": "ipython3",
   "version": "3.8.5"
  }
 },
 "nbformat": 4,
 "nbformat_minor": 4
}
