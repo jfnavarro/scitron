{
 "cells": [
  {
   "cell_type": "code",
   "execution_count": 6,
   "metadata": {},
   "outputs": [],
   "source": [
    "import pandas as pd\n",
    "\n",
    "metasamples = pd.read_excel('../Metadata.xlsx')\n",
    "metasamples['SAMPLE_ID'] = metasamples['SAMPLE_ID'].astype(str)\n",
    "metasamples.index = [x.strip() for x in metasamples['SAMPLE_ID'] + '-' + metasamples['PATIENT_ID']]"
   ]
  },
  {
   "cell_type": "code",
   "execution_count": 7,
   "metadata": {},
   "outputs": [],
   "source": [
    "samples = ['216_14_cfDNA', '1514_5_cfDNA', 'DAS_901_92_cfDNA', 'DAS_861_96_cfDNA', \n",
    "           'DAS_795_98_cfDNA', 'B20-0499', 'C20-0881', 'B20-1097',\n",
    "           '1455_54_cfDNA', 'C20-1461', 'B20-1088', '4078',\n",
    "           'C20-0927', 'CTAX090_PDX', 'C20-0924', '3031_11_cfDNA', '1261_2_cfDNA']\n",
    "\n",
    "meta_filtered = metasamples.loc[metasamples['SAMPLE_ID'].isin(samples), :]"
   ]
  },
  {
   "cell_type": "code",
   "execution_count": 8,
   "metadata": {},
   "outputs": [],
   "source": [
    "with open('command_bam.sh', 'w') as handler:\n",
    "    for index, row in meta_filtered.iterrows():\n",
    "        sample = row['SAMPLE_ID']\n",
    "        handler.write('aws s3 cp s3://scitron/results/Preprocessing/{0}/Recalibrated/{0}.recal.bam\\n'.format(sample))\n"
   ]
  },
  {
   "cell_type": "code",
   "execution_count": null,
   "metadata": {},
   "outputs": [],
   "source": []
  }
 ],
 "metadata": {
  "kernelspec": {
   "display_name": "Python 3",
   "language": "python",
   "name": "python3"
  },
  "language_info": {
   "codemirror_mode": {
    "name": "ipython",
    "version": 3
   },
   "file_extension": ".py",
   "mimetype": "text/x-python",
   "name": "python",
   "nbconvert_exporter": "python",
   "pygments_lexer": "ipython3",
   "version": "3.8.5"
  }
 },
 "nbformat": 4,
 "nbformat_minor": 4
}
