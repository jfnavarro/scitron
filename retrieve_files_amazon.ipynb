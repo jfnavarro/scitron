{
 "cells": [
  {
   "cell_type": "code",
   "execution_count": 50,
   "metadata": {},
   "outputs": [],
   "source": [
    "import pandas as pd\n",
    "\n",
    "samples = pd.read_csv('/Users/jfnavarro/Projects/Scitron/sarek/samples3.tsv', \n",
    "                      sep=\"\\t\", header=None)\n",
    "samples.columns = ['PATIENT_ID', 'GENDER', 'TUMOR', 'SAMPLE_ID', 'LANE', 'FASTA1', 'FASTA2']"
   ]
  },
  {
   "cell_type": "code",
   "execution_count": 51,
   "metadata": {},
   "outputs": [],
   "source": [
    "gdna = samples.loc[(samples['PATIENT_ID'] == 'VHIO_40') & (samples['TUMOR'] == 0), ['SAMPLE_ID']].values.flatten()[0]\n",
    "tumors = samples.loc[(samples['PATIENT_ID'] == 'VHIO_40') & (samples['TUMOR'] == 1), ['SAMPLE_ID']].to_numpy().flatten()\n",
    "with open('command_40.sh', 'w') as f:\n",
    "    for s in tumors:\n",
    "        f.write('mkdir -p {}\\n'.format(s))\n",
    "        f.write('cd {}\\n'.format(s))\n",
    "        f.write('aws s3 sync s3://scitron/results/VariantCalling/{}_vs_{}/Strelka/ .\\n'.format(s, gdna))\n",
    "        f.write('aws s3 sync s3://scitron/results/Preprocessing/{}/ .\\n'.format(s))\n",
    "        f.write('cd ../\\n')\n",
    "    f.write('mkdir -p {}\\n'.format(gdna))\n",
    "    f.write('aws s3 sync s3://scitron/results/VariantCalling/{}/Strelka/ .\\n'.format(gdna))\n",
    "    f.write('aws s3 sync s3://scitron/results/Preprocessing/{}/ .\\n'.format(gdna))\n",
    "    f.write('cd ../\\n')"
   ]
  },
  {
   "cell_type": "code",
   "execution_count": 48,
   "metadata": {},
   "outputs": [],
   "source": [
    "gdna = samples.loc[(samples['PATIENT_ID'] == 'VHIO_41') & (samples['TUMOR'] == 0), ['SAMPLE_ID']].values.flatten()[0]\n",
    "tumors = samples.loc[(samples['PATIENT_ID'] == 'VHIO_41') & (samples['TUMOR'] == 1), ['SAMPLE_ID']].to_numpy().flatten()\n",
    "with open('command_41.sh', 'w') as f:\n",
    "    for s in tumors:\n",
    "        f.write('mkdir -p {}\\n'.format(s))\n",
    "        f.write('cd {}\\n'.format(s))\n",
    "        f.write('aws s3 sync s3://scitron/results/VariantCalling/{}_vs_{}/Strelka/ .\\n'.format(s, gdna))\n",
    "        f.write('aws s3 sync s3://scitron/results/Preprocessing/{}/ .\\n'.format(s))\n",
    "        f.write('cd ../\\n')\n",
    "    f.write('mkdir -p {}\\n'.format(gdna))\n",
    "    f.write('aws s3 sync s3://scitron/results/VariantCalling/{}/Strelka/ .\\n'.format(gdna))\n",
    "    f.write('aws s3 sync s3://scitron/results/Preprocessing/{}/ .\\n'.format(gdna))\n",
    "    f.write('cd ../\\n')"
   ]
  }
 ],
 "metadata": {
  "kernelspec": {
   "display_name": "Python 3",
   "language": "python",
   "name": "python3"
  },
  "language_info": {
   "codemirror_mode": {
    "name": "ipython",
    "version": 3
   },
   "file_extension": ".py",
   "mimetype": "text/x-python",
   "name": "python",
   "nbconvert_exporter": "python",
   "pygments_lexer": "ipython3",
   "version": "3.8.5"
  }
 },
 "nbformat": 4,
 "nbformat_minor": 4
}
