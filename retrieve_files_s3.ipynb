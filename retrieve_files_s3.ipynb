{
 "cells": [
  {
   "cell_type": "code",
   "execution_count": 4,
   "metadata": {},
   "outputs": [],
   "source": [
    "import pandas as pd\n",
    "\n",
    "metaanalysis = pd.read_excel(\"meta.xlsx\")\n",
    "metaanalysis['Sample_ID'] = metaanalysis['Sample_ID'].astype(str)\n",
    "metaanalysis['Sample_ID'] = metaanalysis['Sample_ID'].str.replace('.', '')\n",
    "metaanalysis['Sample_ID'] = metaanalysis['Sample_ID'].str.replace('(', '_')\n",
    "metaanalysis['Sample_ID'] = metaanalysis['Sample_ID'].str.replace(')', '_')\n",
    "metaanalysis['Sample_ID'] = metaanalysis['Sample_ID'].str.replace('/', '_')\n",
    "metaanalysis['Sample_ID'] = metaanalysis['Sample_ID'].str.replace('-', '_')\n",
    "metaanalysis['Sample_ID'] = metaanalysis['Sample_ID'].str.replace(' ', '_')\n",
    "\n",
    "metasamples = pd.read_csv(\"samples.tsv\", sep=\"\\t\", header=None)\n",
    "metasamples.columns = ['PATIENT_ID', 'GENDER', \"TUMOR\", \"SAMPLE_ID\", \"LANE\", \"FASTQ1\", \"FASTQ2\"]\n",
    "metasamples = metasamples[metasamples['PATIENT_ID'].isin(metaanalysis['Patient ID']) & metasamples['LANE'] == 1]"
   ]
  },
  {
   "cell_type": "code",
   "execution_count": 5,
   "metadata": {},
   "outputs": [],
   "source": [
    "with open('command_bam.sh', 'w') as handler:\n",
    "    for sample in metaanalysis['Sample_ID']:\n",
    "        handler.write('aws s3 cp s3://scitron/results/Preprocessing/ . --recursive --exclude \"*\" --include \"{}*.recal.bam\"\\n'.format(sample))\n",
    "with open('command_vcf.sh', 'w') as handler:\n",
    "    for index, row in metaanalysis.iterrows():\n",
    "        sample = row['Sample_ID']\n",
    "        patient = row['Patient ID']\n",
    "        has_germline = any(metasamples[metasamples['PATIENT_ID'] == patient]['TUMOR'] == 0)\n",
    "        cmd = 'Strelka*{}*variants.vcf.gz'.format(sample) if not has_germline else 'StrelkaBP*{}*vs*.vcf.gz'.format(sample)\n",
    "        handler.write('find /Users/jfnavarro/Projects/Scitron/Results/VariantCalling/ -name \"{}\" -exec cp \\'{{}}\\' /Volumes/PowerPuff/ \\;\\n'.format(cmd))\n",
    "        if has_germline:\n",
    "            gdna = metasamples[(metasamples['PATIENT_ID'] == patient)\n",
    "                   & (metasamples['TUMOR'] == 0)]['SAMPLE_ID'].to_numpy()[0]\n",
    "            cmd = 'Strelka*{}*variants.vcf.gz'.format(gdna)\n",
    "            handler.write('find /Users/jfnavarro/Projects/Scitron/Results/VariantCalling/ -name \"{}\" -exec cp \\'{{}}\\' /Volumes/PowerPuff/ \\;\\n'.format(cmd))\n",
    "            "
   ]
  },
  {
   "cell_type": "code",
   "execution_count": null,
   "metadata": {},
   "outputs": [],
   "source": []
  }
 ],
 "metadata": {
  "kernelspec": {
   "display_name": "Python 3",
   "language": "python",
   "name": "python3"
  },
  "language_info": {
   "codemirror_mode": {
    "name": "ipython",
    "version": 3
   },
   "file_extension": ".py",
   "mimetype": "text/x-python",
   "name": "python",
   "nbconvert_exporter": "python",
   "pygments_lexer": "ipython3",
   "version": "3.8.5"
  }
 },
 "nbformat": 4,
 "nbformat_minor": 4
}
